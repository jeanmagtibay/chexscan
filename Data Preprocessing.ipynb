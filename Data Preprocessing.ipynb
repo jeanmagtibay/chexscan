{
 "cells": [
  {
   "cell_type": "code",
   "execution_count": 1,
   "metadata": {
    "id": "1jQTlJ787mex"
   },
   "outputs": [],
   "source": [
    "import os\n",
    "import random\n",
    "import shutil"
   ]
  },
  {
   "cell_type": "code",
   "execution_count": 14,
   "metadata": {
    "id": "FJZEcXlv8DmC"
   },
   "outputs": [],
   "source": [
    "# Define class name\n",
    "class_name = \"Pneumonia\""
   ]
  },
  {
   "cell_type": "code",
   "execution_count": 15,
   "metadata": {
    "id": "b1_BKHZf4m0M"
   },
   "outputs": [],
   "source": [
    "# Access image directory\n",
    "root_dir = r\"E:/Jean Eileen Magtibay/chexscan\"\n",
    "access_dir = os.path.join(root_dir, \"raw_data\", class_name)\n",
    "output_dir = os.path.join(root_dir, f\"preprocessed/{class_name}\")\n",
    "\n",
    "# Create a directory for pre-processed data\n",
    "os.makedirs(access_dir, exist_ok=True)\n",
    "os.makedirs(output_dir, exist_ok=True)"
   ]
  },
  {
   "cell_type": "code",
   "execution_count": 16,
   "metadata": {
    "id": "5fsDUM7v91zx"
   },
   "outputs": [],
   "source": [
    "import cv2\n",
    "\n",
    "# Pre-process image\n",
    "img_files = os.listdir(access_dir)\n",
    "\n",
    "# 1:1 Aspect Ratio\n",
    "width_square = 224\n",
    "height_square = 224\n",
    "\n",
    "# 4:5 Aspect Ratio\n",
    "width_rect = 375\n",
    "height_rect = 300\n",
    "\n",
    "for file in img_files:\n",
    "  img_path = os.path.join(access_dir, file)\n",
    "  img_read = cv2.imread(img_path)\n",
    "\n",
    "  img = cv2.resize(img_read, (width_square, height_square))\n",
    "  # img = cv2.resize(img_read, (width_rect, height_rect))\n",
    "\n",
    "  img_gray = cv2.cvtColor(img, cv2.COLOR_BGR2GRAY)\n",
    "\n",
    "  output_path = os.path.join(output_dir, file)\n",
    "  cv2.imwrite(output_path, img)"
   ]
  },
  {
   "cell_type": "markdown",
   "metadata": {
    "id": "VYIKBGi1JYJt"
   },
   "source": [
    "# Train Test Split"
   ]
  },
  {
   "cell_type": "code",
   "execution_count": 17,
   "metadata": {
    "id": "WeuF0hArJbxU"
   },
   "outputs": [],
   "source": [
    "# Output directories for train and validation data\n",
    "train_dir = os.path.join(root_dir, f\"dataset/train/{class_name}\")\n",
    "valid_dir = os.path.join(root_dir, f\"dataset/valid/{class_name}\")\n",
    "\n",
    "# Create the train and validation directories if they don't exist\n",
    "os.makedirs(train_dir, exist_ok=True)\n",
    "os.makedirs(valid_dir, exist_ok=True)"
   ]
  },
  {
   "cell_type": "code",
   "execution_count": 18,
   "metadata": {
    "id": "14CuZLrYKWLk"
   },
   "outputs": [],
   "source": [
    "# List all the image files in the data directory\n",
    "image_files = [f for f in os.listdir(access_dir) if f.endswith((\".jpg\", \".jpeg\", \".png\", \".gif\", \"JPG\"))]\n",
    "\n",
    "# Calculate the number of images for the train and validation sets\n",
    "total_images = len(image_files)\n",
    "train_ratio = 0.8\n",
    "num_train = int(total_images * train_ratio)\n",
    "num_valid = total_images - num_train\n",
    "\n",
    "# Randomly shuffle the list of image files\n",
    "random.shuffle(image_files)"
   ]
  },
  {
   "cell_type": "code",
   "execution_count": 19,
   "metadata": {
    "colab": {
     "base_uri": "https://localhost:8080/"
    },
    "executionInfo": {
     "elapsed": 5838,
     "status": "ok",
     "timestamp": 1711425809594,
     "user": {
      "displayName": "Magtibay, Jean Eileen C.",
      "userId": "01407192710143982204"
     },
     "user_tz": -480
    },
    "id": "M9HlmcTiLFlM",
    "outputId": "68150386-6413-4233-98c9-879caaaabb1a"
   },
   "outputs": [
    {
     "name": "stdout",
     "output_type": "stream",
     "text": [
      "Split 700 images for Pneumonia into 560 for training and 140 for validation.\n"
     ]
    }
   ],
   "source": [
    "# Copy the first 'num_train' images to the train directory\n",
    "for i in range(num_train):\n",
    "    src = os.path.join(output_dir, image_files[i])\n",
    "    dst = os.path.join(train_dir, image_files[i])\n",
    "    shutil.copy(src, dst)\n",
    "\n",
    "# Copy the remaining images to the validation directory\n",
    "for i in range(num_train, total_images):\n",
    "    src = os.path.join(output_dir, image_files[i])\n",
    "    dst = os.path.join(valid_dir, image_files[i])\n",
    "    shutil.copy(src, dst)\n",
    "\n",
    "print(f\"Split {total_images} images for {class_name} into {num_train} for training and {num_valid} for validation.\")"
   ]
  }
 ],
 "metadata": {
  "colab": {
   "provenance": []
  },
  "kernelspec": {
   "display_name": "Python 3 (ipykernel)",
   "language": "python",
   "name": "python3"
  },
  "language_info": {
   "codemirror_mode": {
    "name": "ipython",
    "version": 3
   },
   "file_extension": ".py",
   "mimetype": "text/x-python",
   "name": "python",
   "nbconvert_exporter": "python",
   "pygments_lexer": "ipython3",
   "version": "3.8.19"
  }
 },
 "nbformat": 4,
 "nbformat_minor": 4
}
