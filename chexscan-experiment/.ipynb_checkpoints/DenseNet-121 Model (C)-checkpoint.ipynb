{
 "cells": [
  {
   "cell_type": "markdown",
   "metadata": {},
   "source": [
    "# CheXScan DenseNet-121 Model"
   ]
  },
  {
   "cell_type": "markdown",
   "metadata": {},
   "source": [
    "## Libraries"
   ]
  },
  {
   "cell_type": "code",
   "execution_count": 2,
   "metadata": {
    "id": "AriPsxoPryLN"
   },
   "outputs": [
    {
     "name": "stdout",
     "output_type": "stream",
     "text": [
      "Imports completed successfully.\n"
     ]
    }
   ],
   "source": [
    "import torch\n",
    "import torch.nn as nn\n",
    "import torch.optim as optim\n",
    "from torchvision import models, transforms, datasets\n",
    "from torch.utils.data import DataLoader\n",
    "\n",
    "from torch.optim.lr_scheduler import StepLR\n",
    "from sklearn.metrics import confusion_matrix, classification_report\n",
    "import matplotlib.pyplot as plt\n",
    "import numpy as np\n",
    "import os\n",
    "import seaborn as sns\n",
    "\n",
    "from PIL import Image\n",
    "\n",
    "print(\"Imports completed successfully.\")"
   ]
  },
  {
   "cell_type": "markdown",
   "metadata": {},
   "source": [
    "## Run this code if you're using Colab"
   ]
  },
  {
   "cell_type": "code",
   "execution_count": null,
   "metadata": {
    "colab": {
     "base_uri": "https://localhost:8080/"
    },
    "executionInfo": {
     "elapsed": 2361,
     "status": "ok",
     "timestamp": 1711353819773,
     "user": {
      "displayName": "Redilla, Mary Rose N.",
      "userId": "07300537173449150115"
     },
     "user_tz": -480
    },
    "id": "kY5H61WCsR1o",
    "outputId": "cbaa7396-2faa-41fb-8367-568531d46ca3"
   },
   "outputs": [],
   "source": [
    "# from google.colab import drive\n",
    "# drive.mount('/content/drive/')"
   ]
  },
  {
   "cell_type": "markdown",
   "metadata": {
    "id": "7RlsUq1dr5AZ"
   },
   "source": [
    "## Transform functions for data augmentation and normalization"
   ]
  },
  {
   "cell_type": "markdown",
   "metadata": {},
   "source": [
    "You can further adjust these parameters if needed to achieve the desired balance between augmentation and maintaining image quality."
   ]
  },
  {
   "cell_type": "code",
   "execution_count": null,
   "metadata": {
    "id": "DJEVdE_vr1wA"
   },
   "outputs": [],
   "source": [
    "train_transform = transforms.Compose([   \n",
    "    transforms.Resize((224, 224)),\n",
    "    transforms.RandomHorizontalFlip(),\n",
    "    transforms.RandomRotation(15),\n",
    "    transforms.ColorJitter(brightness=0.1, contrast=0.1, saturation=0.03, hue=0.03),  # Adjust saturation and hue\n",
    "    transforms.ToTensor(),\n",
    "    transforms.Normalize(mean=[0.485, 0.456, 0.406], std=[0.229, 0.224, 0.225])\n",
    "])"
   ]
  },
  {
   "cell_type": "code",
   "execution_count": null,
   "metadata": {
    "id": "1Q06Jn-yr-FX"
   },
   "outputs": [],
   "source": [
    "test_transform = transforms.Compose([\n",
    "    transforms.Resize((224, 224)),\n",
    "    transforms.ToTensor(),\n",
    "    transforms.Normalize(mean=[0.485, 0.456, 0.406], std=[0.229, 0.224, 0.225])\n",
    "])"
   ]
  },
  {
   "cell_type": "markdown",
   "metadata": {
    "id": "TYZxGdIAn1HI"
   },
   "source": [
    "## Dataset Summary"
   ]
  },
  {
   "cell_type": "code",
   "execution_count": null,
   "metadata": {},
   "outputs": [],
   "source": [
    "class_names = ['Normal', 'Pneumonia', 'Tuberculosis'] "
   ]
  },
  {
   "cell_type": "code",
   "execution_count": null,
   "metadata": {},
   "outputs": [],
   "source": [
    "data_dir = r\"D:/Jupyter/chexscan-folder/chexscan-experiment/data\"\n",
    "train_data_dir = os.path.join(data_dir, 'train_data')\n",
    "test_data_dir = os.path.join(data_dir, 'test_data')"
   ]
  },
  {
   "cell_type": "code",
   "execution_count": null,
   "metadata": {
    "colab": {
     "base_uri": "https://localhost:8080/"
    },
    "executionInfo": {
     "elapsed": 5,
     "status": "ok",
     "timestamp": 1711353819774,
     "user": {
      "displayName": "Redilla, Mary Rose N.",
      "userId": "07300537173449150115"
     },
     "user_tz": -480
    },
    "id": "g0J1DkHaspPI",
    "outputId": "4a05b21f-3a0b-479c-f365-534ab00bb0a0"
   },
   "outputs": [],
   "source": [
    "def count_images_in_subdirectories(directory):\n",
    "    subdirectories = os.listdir(directory)\n",
    "    counts = {}\n",
    "    for subdir in subdirectories:\n",
    "        subdir_path = os.path.join(directory, subdir)\n",
    "        count = sum(len(files) for _, _, files in os.walk(subdir_path))\n",
    "        counts[subdir] = count\n",
    "    return counts"
   ]
  },
  {
   "cell_type": "code",
   "execution_count": null,
   "metadata": {},
   "outputs": [],
   "source": [
    "train_counts = count_images_in_subdirectories(train_data_dir)\n",
    "test_counts = count_images_in_subdirectories(test_data_dir)\n",
    "\n",
    "print(\"Number of images in each subdirectory of training data:\")\n",
    "for subdir, count in train_counts.items():\n",
    "    print(f\"{subdir}: {count}\")\n",
    "\n",
    "print(\"\\nNumber of images in each subdirectory of testing data:\")\n",
    "for subdir, count in test_counts.items():\n",
    "    print(f\"{subdir}: {count}\")"
   ]
  },
  {
   "cell_type": "markdown",
   "metadata": {
    "id": "tcR_hcy7sAMX"
   },
   "source": [
    "## Define datasets (Online)"
   ]
  },
  {
   "cell_type": "code",
   "execution_count": null,
   "metadata": {},
   "outputs": [],
   "source": [
    "# data_dir = '/content/drive/My Drive/THESIS/Datasets/Mary/'\n",
    "# train_data = datasets.ImageFolder(os.path.join(data_dir, 'train_data'), transform=train_transform)\n",
    "# test_data = datasets.ImageFolder(os.path.join(data_dir, 'test_data'), transform=test_transform)"
   ]
  },
  {
   "cell_type": "markdown",
   "metadata": {
    "id": "tcR_hcy7sAMX"
   },
   "source": [
    "## Define datasets (Local)"
   ]
  },
  {
   "cell_type": "code",
   "execution_count": null,
   "metadata": {
    "id": "gf8QHb5Kr-fw"
   },
   "outputs": [],
   "source": [
    "train_data = datasets.ImageFolder(os.path.join(data_dir, 'train_data'), transform=train_transform)\n",
    "test_data = datasets.ImageFolder(os.path.join(data_dir, 'test_data'), transform=test_transform)"
   ]
  },
  {
   "cell_type": "markdown",
   "metadata": {
    "id": "DAQTnDdKtIoH"
   },
   "source": [
    "## Define data loaders"
   ]
  },
  {
   "cell_type": "code",
   "execution_count": null,
   "metadata": {
    "id": "KKsO4nKDtGZW"
   },
   "outputs": [],
   "source": [
    "train_loader = DataLoader(train_data, batch_size=32, shuffle=True)\n",
    "test_loader = DataLoader(test_data, batch_size=32, shuffle=False)"
   ]
  },
  {
   "cell_type": "markdown",
   "metadata": {
    "id": "dgQ6EoRe3eyN"
   },
   "source": [
    "## Visualizes training data"
   ]
  },
  {
   "cell_type": "code",
   "execution_count": null,
   "metadata": {
    "colab": {
     "base_uri": "https://localhost:8080/",
     "height": 727
    },
    "executionInfo": {
     "elapsed": 8268,
     "status": "ok",
     "timestamp": 1711353828551,
     "user": {
      "displayName": "Redilla, Mary Rose N.",
      "userId": "07300537173449150115"
     },
     "user_tz": -480
    },
    "id": "Wzw5l8th3dxO",
    "outputId": "ad26db26-f7b8-472b-b984-887b3d4d2cad"
   },
   "outputs": [],
   "source": [
    "def visualize_training_data(loader):\n",
    "    \n",
    "    \"\"\"\n",
    "    Visualizes a batch of training images along with their corresponding labels.\n",
    "\n",
    "    Parameters:\n",
    "        loader (DataLoader): DataLoader containing the training dataset.\n",
    "\n",
    "    Returns:\n",
    "        None\n",
    "    \"\"\"\n",
    "    \n",
    "    classes = loader.dataset.classes\n",
    "    class_names = {i: classes[i] for i in range(len(classes))}\n",
    "    images, labels = next(iter(loader))\n",
    "    fig, axes = plt.subplots(figsize=(15, 7), ncols=5, nrows=2)\n",
    "    for i, ax in enumerate(axes.flat):\n",
    "        image = images[i].permute(1, 2, 0)\n",
    "        ax.imshow(image)\n",
    "        ax.set_title(class_names[labels[i].item()])\n",
    "        ax.axis('off')\n",
    "    plt.show()\n",
    "\n",
    "visualize_training_data(train_loader)"
   ]
  },
  {
   "cell_type": "markdown",
   "metadata": {
    "id": "LoLUwVq3se83"
   },
   "source": [
    "## Define DenseNet-121 model"
   ]
  },
  {
   "cell_type": "code",
   "execution_count": null,
   "metadata": {
    "colab": {
     "base_uri": "https://localhost:8080/"
    },
    "executionInfo": {
     "elapsed": 771,
     "status": "ok",
     "timestamp": 1711353829318,
     "user": {
      "displayName": "Redilla, Mary Rose N.",
      "userId": "07300537173449150115"
     },
     "user_tz": -480
    },
    "id": "w2Zq4KqzsB0D",
    "outputId": "a802a2ad-38ef-4dc5-c812-8b960ed390b8"
   },
   "outputs": [],
   "source": [
    "model = models.densenet121(pretrained=True)"
   ]
  },
  {
   "cell_type": "code",
   "execution_count": null,
   "metadata": {},
   "outputs": [],
   "source": [
    "for param in model.parameters():\n",
    "    param.requires_grad = False"
   ]
  },
  {
   "cell_type": "code",
   "execution_count": null,
   "metadata": {},
   "outputs": [],
   "source": [
    "# Modify the last layer of the classifier\n",
    "num_classes = 3  # Replace 3 with the number of classes in your dataset\n",
    "in_features = model.classifier.in_features\n",
    "model.classifier = nn.Linear(in_features, num_classes)"
   ]
  },
  {
   "cell_type": "markdown",
   "metadata": {
    "id": "s3z6RyuUsoeM"
   },
   "source": [
    "## Define loss function and optimizer"
   ]
  },
  {
   "cell_type": "code",
   "execution_count": null,
   "metadata": {
    "id": "yUFW24ghsloS"
   },
   "outputs": [],
   "source": [
    "criterion = nn.CrossEntropyLoss()"
   ]
  },
  {
   "cell_type": "markdown",
   "metadata": {
    "id": "1pN4luFqstCw"
   },
   "source": [
    "## Move model to GPU if available"
   ]
  },
  {
   "cell_type": "code",
   "execution_count": null,
   "metadata": {
    "colab": {
     "base_uri": "https://localhost:8080/"
    },
    "executionInfo": {
     "elapsed": 2,
     "status": "ok",
     "timestamp": 1711353829318,
     "user": {
      "displayName": "Redilla, Mary Rose N.",
      "userId": "07300537173449150115"
     },
     "user_tz": -480
    },
    "id": "uaurboq9soFc",
    "outputId": "7f6306f1-5912-4099-d937-8972e4afd394"
   },
   "outputs": [],
   "source": [
    "device = torch.device(\"cuda\" if torch.cuda.is_available() else \"cpu\")\n",
    "model.to(device)"
   ]
  },
  {
   "cell_type": "markdown",
   "metadata": {
    "id": "Jt8I46N6swvM"
   },
   "source": [
    "## DenseNet-121 Model Training"
   ]
  },
  {
   "cell_type": "code",
   "execution_count": null,
   "metadata": {},
   "outputs": [],
   "source": [
    "learning_rates = [0.001, 0.0001]\n",
    "best_params = {'learning_rate': None, 'validation_accuracy': 0.0}\n",
    "early_stopping_patience = 2  # Number of epochs to wait before early stopping\n",
    "best_val_accuracy = 0.0\n",
    "best_epoch = 0"
   ]
  },
  {
   "cell_type": "code",
   "execution_count": null,
   "metadata": {},
   "outputs": [],
   "source": [
    "for lr in learning_rates:\n",
    "    optimizer = optim.Adam(model.parameters(), lr=lr)\n",
    "    scheduler = StepLR(optimizer, step_size=5, gamma=0.1)\n",
    "\n",
    "    # Define training parameters\n",
    "    num_epochs = 5  # Increased number of epochs for potential early stopping\n",
    "    train_losses = []\n",
    "    val_losses = []\n",
    "    val_accuracies = []\n",
    "    patience_counter = 0  # Counter for early stopping\n",
    "\n",
    "    # Training loop\n",
    "    for epoch in range(num_epochs):\n",
    "        model.train()\n",
    "        running_loss = 0.0\n",
    "        correct_train = 0\n",
    "        total_train = 0\n",
    "\n",
    "        for inputs, labels in train_loader:\n",
    "            inputs, labels = inputs.to(device), labels.to(device)\n",
    "            optimizer.zero_grad()\n",
    "            outputs = model(inputs)\n",
    "            loss = criterion(outputs, labels)\n",
    "            loss.backward()\n",
    "            optimizer.step()\n",
    "            running_loss += loss.item() * inputs.size(0)\n",
    "\n",
    "            # Calculate train accuracy\n",
    "            _, predicted_train = torch.max(outputs, 1)\n",
    "            total_train += labels.size(0)\n",
    "            correct_train += (predicted_train == labels).sum().item()\n",
    "\n",
    "        epoch_loss = running_loss / len(train_data)\n",
    "        train_losses.append(epoch_loss)\n",
    "\n",
    "        # Calculate train accuracy for the epoch\n",
    "        accuracy_train = correct_train / total_train\n",
    "\n",
    "        model.eval()\n",
    "        val_loss = 0.0\n",
    "        correct_val = 0\n",
    "        total_val = 0\n",
    "\n",
    "        with torch.no_grad():\n",
    "            for inputs, labels in test_loader:\n",
    "                inputs, labels = inputs.to(device), labels.to(device)\n",
    "                outputs = model(inputs)\n",
    "                loss = criterion(outputs, labels)\n",
    "                val_loss += loss.item() * inputs.size(0)\n",
    "                _, predicted_val = torch.max(outputs, 1)\n",
    "                total_val += labels.size(0)\n",
    "                correct_val += (predicted_val == labels).sum().item()\n",
    "\n",
    "        val_loss /= len(test_data)\n",
    "        accuracy_val = correct_val / total_val\n",
    "        val_losses.append(val_loss)\n",
    "        val_accuracies.append(accuracy_val)\n",
    "\n",
    "        # Update the learning rate\n",
    "        scheduler.step()\n",
    "\n",
    "        print(f'Epoch [{epoch + 1}/{num_epochs}], '\n",
    "              f'LR: {scheduler.get_lr()[0]:.5f}, '\n",
    "              f'Train Loss: {epoch_loss:.4f}, Train Accuracy: {accuracy_train:.4f}, '\n",
    "              f'Val Loss: {val_loss:.4f}, Val Accuracy: {accuracy_val:.4f}')\n",
    "\n",
    "        # Early stopping condition\n",
    "        if accuracy_val > best_val_accuracy:\n",
    "            best_val_accuracy = accuracy_val\n",
    "            best_epoch = epoch + 1\n",
    "            best_params['learning_rate'] = lr\n",
    "            best_params['validation_accuracy'] = accuracy_val\n",
    "            patience_counter = 0  # Reset patience counter\n",
    "        else:\n",
    "            patience_counter += 1\n",
    "            if patience_counter >= early_stopping_patience:\n",
    "                print(\"Early stopping triggered!\")\n",
    "                break  # Break out of the loop if early stopping condition is met\n",
    "\n",
    "print(f'Best parameters found: {best_params} at epoch {best_epoch}')"
   ]
  },
  {
   "cell_type": "markdown",
   "metadata": {},
   "source": [
    "## DenseNet-121 Model Training"
   ]
  },
  {
   "cell_type": "code",
   "execution_count": null,
   "metadata": {},
   "outputs": [],
   "source": [
    "# Train the final model using the best parameters\n",
    "best_lr = best_params['learning_rate']\n",
    "optimizer = optim.Adam(model.parameters(), lr=best_lr)\n",
    "scheduler = StepLR(optimizer, step_size=5, gamma=0.1)\n",
    "\n",
    "# Define training parameters\n",
    "final_num_epochs = best_epoch  # Train for the number of epochs where early stopping was triggered\n",
    "final_train_losses = []\n",
    "final_val_losses = []\n",
    "final_val_accuracies = []\n",
    "\n",
    "# Training loop\n",
    "for epoch in range(final_num_epochs):\n",
    "    model.train()\n",
    "    running_loss = 0.0\n",
    "    correct_train = 0\n",
    "    total_train = 0\n",
    "\n",
    "    for inputs, labels in train_loader:\n",
    "        inputs, labels = inputs.to(device), labels.to(device)\n",
    "        optimizer.zero_grad()\n",
    "        outputs = model(inputs)\n",
    "        loss = criterion(outputs, labels)\n",
    "        loss.backward()\n",
    "        optimizer.step()\n",
    "        running_loss += loss.item() * inputs.size(0)\n",
    "\n",
    "        # Calculate train accuracy\n",
    "        _, predicted_train = torch.max(outputs, 1)\n",
    "        total_train += labels.size(0)\n",
    "        correct_train += (predicted_train == labels).sum().item()\n",
    "\n",
    "    epoch_loss = running_loss / len(train_data)\n",
    "    final_train_losses.append(epoch_loss)\n",
    "\n",
    "    # Calculate train accuracy for the epoch\n",
    "    accuracy_train = correct_train / total_train\n",
    "\n",
    "    model.eval()\n",
    "    val_loss = 0.0\n",
    "    correct_val = 0\n",
    "    total_val = 0\n",
    "\n",
    "    with torch.no_grad():\n",
    "        for inputs, labels in test_loader:\n",
    "            inputs, labels = inputs.to(device), labels.to(device)\n",
    "            outputs = model(inputs)\n",
    "            loss = criterion(outputs, labels)\n",
    "            val_loss += loss.item() * inputs.size(0)\n",
    "            _, predicted_val = torch.max(outputs, 1)\n",
    "            total_val += labels.size(0)\n",
    "            correct_val += (predicted_val == labels).sum().item()\n",
    "\n",
    "    val_loss /= len(test_data)\n",
    "    accuracy_val = correct_val / total_val\n",
    "    final_val_losses.append(val_loss)\n",
    "    final_val_accuracies.append(accuracy_val)\n",
    "\n",
    "    # Update the learning rate\n",
    "    scheduler.step()\n",
    "\n",
    "    print(f'Epoch [{epoch + 1}/{final_num_epochs}], '\n",
    "          f'LR: {scheduler.get_lr()[0]:.5f}, '\n",
    "          f'Train Loss: {epoch_loss:.4f}, Train Accuracy: {accuracy_train:.4f}, '\n",
    "          f'Val Loss: {val_loss:.4f}, Val Accuracy: {accuracy_val:.4f}')"
   ]
  },
  {
   "cell_type": "markdown",
   "metadata": {},
   "source": [
    "## Training and Validation Loss"
   ]
  },
  {
   "cell_type": "code",
   "execution_count": null,
   "metadata": {},
   "outputs": [],
   "source": [
    "# Plot training and validation loss\n",
    "plt.figure(figsize=(10, 5))\n",
    "plt.plot(final_train_losses, label='Training Loss')\n",
    "plt.plot(final_val_losses, label='Validation Loss')\n",
    "plt.title('Training and Validation Loss')\n",
    "plt.xlabel('Epoch')\n",
    "plt.ylabel('Loss')\n",
    "plt.legend()\n",
    "plt.show()\n",
    "\n",
    "# Plot validation accuracy\n",
    "plt.figure(figsize=(10, 5))\n",
    "plt.plot(final_val_accuracies, label='Validation Accuracy', color='green')\n",
    "plt.title('Validation Accuracy')\n",
    "plt.xlabel('Epoch')\n",
    "plt.ylabel('Accuracy')\n",
    "plt.legend()\n",
    "plt.show()"
   ]
  },
  {
   "cell_type": "markdown",
   "metadata": {
    "id": "EYQ_u2QM-tl6"
   },
   "source": [
    "## Classification Report"
   ]
  },
  {
   "cell_type": "code",
   "execution_count": null,
   "metadata": {
    "colab": {
     "base_uri": "https://localhost:8080/"
    },
    "executionInfo": {
     "elapsed": 31498,
     "status": "ok",
     "timestamp": 1711356965655,
     "user": {
      "displayName": "Redilla, Mary Rose N.",
      "userId": "07300537173449150115"
     },
     "user_tz": -480
    },
    "id": "fIntQAtZ0A9x",
    "outputId": "8ebea4b2-ae5d-47df-a815-24c648b50fbf"
   },
   "outputs": [],
   "source": [
    "test_labels = []\n",
    "predictions = []\n",
    "\n",
    "# Evaluate the model on the test set\n",
    "model.eval()\n",
    "with torch.no_grad():\n",
    "    for inputs, labels in test_loader:\n",
    "        inputs, labels = inputs.to(device), labels.to(device)\n",
    "        outputs = model(inputs)\n",
    "        _, predicted = torch.max(outputs, 1)\n",
    "        predictions.extend(predicted.cpu().numpy())  # Append predictions\n",
    "        test_labels.extend(labels.cpu().numpy())  # Append test labels\n",
    "\n",
    "# Convert validation labels and predictions to numpy arrays\n",
    "y_true = np.array(test_labels)\n",
    "y_pred = np.array(predictions)\n",
    "\n",
    "# Generate classification report\n",
    "print(\"Classification Report:\")\n",
    "print(classification_report(y_true, y_pred, target_names=class_names))"
   ]
  },
  {
   "cell_type": "markdown",
   "metadata": {},
   "source": [
    "## Confusion Matrix"
   ]
  },
  {
   "cell_type": "code",
   "execution_count": null,
   "metadata": {},
   "outputs": [],
   "source": [
    "conf_matrix = confusion_matrix(y_true, y_pred)\n",
    "plt.figure(figsize=(10, 8))\n",
    "sns.heatmap(conf_matrix, annot=True, cmap='Blues', fmt='d', cbar=False, xticklabels=class_names, yticklabels=class_names)\n",
    "plt.title('Confusion Matrix')\n",
    "plt.xlabel('Predicted Label')\n",
    "plt.ylabel('True Label')\n",
    "plt.show()"
   ]
  },
  {
   "cell_type": "markdown",
   "metadata": {},
   "source": [
    "## Saving the model"
   ]
  },
  {
   "cell_type": "code",
   "execution_count": null,
   "metadata": {},
   "outputs": [],
   "source": [
    "torch.save(model.state_dict(), 'final_densenet121_model_01.pth')\n",
    "print(\"Final model saved successfully!\")"
   ]
  }
 ],
 "metadata": {
  "accelerator": "GPU",
  "colab": {
   "gpuType": "T4",
   "provenance": []
  },
  "kernelspec": {
   "display_name": "Python 3 (ipykernel)",
   "language": "python",
   "name": "python3"
  },
  "language_info": {
   "codemirror_mode": {
    "name": "ipython",
    "version": 3
   },
   "file_extension": ".py",
   "mimetype": "text/x-python",
   "name": "python",
   "nbconvert_exporter": "python",
   "pygments_lexer": "ipython3",
   "version": "3.11.5"
  }
 },
 "nbformat": 4,
 "nbformat_minor": 1
}
