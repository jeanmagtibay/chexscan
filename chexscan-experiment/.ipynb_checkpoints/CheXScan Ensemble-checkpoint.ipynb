{
 "cells": [
  {
   "cell_type": "markdown",
   "id": "2f731ad9",
   "metadata": {},
   "source": [
    "# CheXScan Ensemble Experiment"
   ]
  },
  {
   "cell_type": "markdown",
   "id": "980d7496",
   "metadata": {},
   "source": [
    "## Libraries"
   ]
  },
  {
   "cell_type": "code",
   "execution_count": 1,
   "id": "6fa3efb3",
   "metadata": {},
   "outputs": [],
   "source": [
    "import torch\n",
    "from torchvision import datasets, transforms\n",
    "from torch.utils.data import DataLoader"
   ]
  },
  {
   "cell_type": "markdown",
   "id": "127a903e",
   "metadata": {},
   "source": [
    "## Define transforms for validation or test data"
   ]
  },
  {
   "cell_type": "code",
   "execution_count": 2,
   "id": "9ef914cb",
   "metadata": {},
   "outputs": [],
   "source": [
    "transform = transforms.Compose([\n",
    "    transforms.Resize((224, 224)),\n",
    "    transforms.ToTensor(),\n",
    "    transforms.Normalize(mean=[0.485, 0.456, 0.406], std=[0.229, 0.224, 0.225])\n",
    "])"
   ]
  },
  {
   "cell_type": "markdown",
   "id": "dcd0b3c1",
   "metadata": {},
   "source": [
    "## Define validation or test dataset"
   ]
  },
  {
   "cell_type": "code",
   "execution_count": 4,
   "id": "7d621b13",
   "metadata": {},
   "outputs": [
    {
     "ename": "FileNotFoundError",
     "evalue": "Found no valid file for the classes .ipynb_checkpoints. Supported extensions are: .jpg, .jpeg, .png, .ppm, .bmp, .pgm, .tif, .tiff, .webp",
     "output_type": "error",
     "traceback": [
      "\u001b[1;31m---------------------------------------------------------------------------\u001b[0m",
      "\u001b[1;31mFileNotFoundError\u001b[0m                         Traceback (most recent call last)",
      "Cell \u001b[1;32mIn[4], line 2\u001b[0m\n\u001b[0;32m      1\u001b[0m data_dir \u001b[38;5;241m=\u001b[39m \u001b[38;5;124mr\u001b[39m\u001b[38;5;124m\"\u001b[39m\u001b[38;5;124mD:/Jupyter/chexscan-folder/chexscan-experiment\u001b[39m\u001b[38;5;124m\"\u001b[39m\n\u001b[1;32m----> 2\u001b[0m dataset \u001b[38;5;241m=\u001b[39m datasets\u001b[38;5;241m.\u001b[39mImageFolder(root\u001b[38;5;241m=\u001b[39mdata_dir, transform\u001b[38;5;241m=\u001b[39mtransform)\n",
      "File \u001b[1;32mD:\\Anaconda\\Lib\\site-packages\\torchvision\\datasets\\folder.py:309\u001b[0m, in \u001b[0;36mImageFolder.__init__\u001b[1;34m(self, root, transform, target_transform, loader, is_valid_file)\u001b[0m\n\u001b[0;32m    301\u001b[0m \u001b[38;5;28;01mdef\u001b[39;00m \u001b[38;5;21m__init__\u001b[39m(\n\u001b[0;32m    302\u001b[0m     \u001b[38;5;28mself\u001b[39m,\n\u001b[0;32m    303\u001b[0m     root: \u001b[38;5;28mstr\u001b[39m,\n\u001b[1;32m   (...)\u001b[0m\n\u001b[0;32m    307\u001b[0m     is_valid_file: Optional[Callable[[\u001b[38;5;28mstr\u001b[39m], \u001b[38;5;28mbool\u001b[39m]] \u001b[38;5;241m=\u001b[39m \u001b[38;5;28;01mNone\u001b[39;00m,\n\u001b[0;32m    308\u001b[0m ):\n\u001b[1;32m--> 309\u001b[0m     \u001b[38;5;28msuper\u001b[39m()\u001b[38;5;241m.\u001b[39m\u001b[38;5;21m__init__\u001b[39m(\n\u001b[0;32m    310\u001b[0m         root,\n\u001b[0;32m    311\u001b[0m         loader,\n\u001b[0;32m    312\u001b[0m         IMG_EXTENSIONS \u001b[38;5;28;01mif\u001b[39;00m is_valid_file \u001b[38;5;129;01mis\u001b[39;00m \u001b[38;5;28;01mNone\u001b[39;00m \u001b[38;5;28;01melse\u001b[39;00m \u001b[38;5;28;01mNone\u001b[39;00m,\n\u001b[0;32m    313\u001b[0m         transform\u001b[38;5;241m=\u001b[39mtransform,\n\u001b[0;32m    314\u001b[0m         target_transform\u001b[38;5;241m=\u001b[39mtarget_transform,\n\u001b[0;32m    315\u001b[0m         is_valid_file\u001b[38;5;241m=\u001b[39mis_valid_file,\n\u001b[0;32m    316\u001b[0m     )\n\u001b[0;32m    317\u001b[0m     \u001b[38;5;28mself\u001b[39m\u001b[38;5;241m.\u001b[39mimgs \u001b[38;5;241m=\u001b[39m \u001b[38;5;28mself\u001b[39m\u001b[38;5;241m.\u001b[39msamples\n",
      "File \u001b[1;32mD:\\Anaconda\\Lib\\site-packages\\torchvision\\datasets\\folder.py:145\u001b[0m, in \u001b[0;36mDatasetFolder.__init__\u001b[1;34m(self, root, loader, extensions, transform, target_transform, is_valid_file)\u001b[0m\n\u001b[0;32m    143\u001b[0m \u001b[38;5;28msuper\u001b[39m()\u001b[38;5;241m.\u001b[39m\u001b[38;5;21m__init__\u001b[39m(root, transform\u001b[38;5;241m=\u001b[39mtransform, target_transform\u001b[38;5;241m=\u001b[39mtarget_transform)\n\u001b[0;32m    144\u001b[0m classes, class_to_idx \u001b[38;5;241m=\u001b[39m \u001b[38;5;28mself\u001b[39m\u001b[38;5;241m.\u001b[39mfind_classes(\u001b[38;5;28mself\u001b[39m\u001b[38;5;241m.\u001b[39mroot)\n\u001b[1;32m--> 145\u001b[0m samples \u001b[38;5;241m=\u001b[39m \u001b[38;5;28mself\u001b[39m\u001b[38;5;241m.\u001b[39mmake_dataset(\u001b[38;5;28mself\u001b[39m\u001b[38;5;241m.\u001b[39mroot, class_to_idx, extensions, is_valid_file)\n\u001b[0;32m    147\u001b[0m \u001b[38;5;28mself\u001b[39m\u001b[38;5;241m.\u001b[39mloader \u001b[38;5;241m=\u001b[39m loader\n\u001b[0;32m    148\u001b[0m \u001b[38;5;28mself\u001b[39m\u001b[38;5;241m.\u001b[39mextensions \u001b[38;5;241m=\u001b[39m extensions\n",
      "File \u001b[1;32mD:\\Anaconda\\Lib\\site-packages\\torchvision\\datasets\\folder.py:189\u001b[0m, in \u001b[0;36mDatasetFolder.make_dataset\u001b[1;34m(directory, class_to_idx, extensions, is_valid_file)\u001b[0m\n\u001b[0;32m    184\u001b[0m \u001b[38;5;28;01mif\u001b[39;00m class_to_idx \u001b[38;5;129;01mis\u001b[39;00m \u001b[38;5;28;01mNone\u001b[39;00m:\n\u001b[0;32m    185\u001b[0m     \u001b[38;5;66;03m# prevent potential bug since make_dataset() would use the class_to_idx logic of the\u001b[39;00m\n\u001b[0;32m    186\u001b[0m     \u001b[38;5;66;03m# find_classes() function, instead of using that of the find_classes() method, which\u001b[39;00m\n\u001b[0;32m    187\u001b[0m     \u001b[38;5;66;03m# is potentially overridden and thus could have a different logic.\u001b[39;00m\n\u001b[0;32m    188\u001b[0m     \u001b[38;5;28;01mraise\u001b[39;00m \u001b[38;5;167;01mValueError\u001b[39;00m(\u001b[38;5;124m\"\u001b[39m\u001b[38;5;124mThe class_to_idx parameter cannot be None.\u001b[39m\u001b[38;5;124m\"\u001b[39m)\n\u001b[1;32m--> 189\u001b[0m \u001b[38;5;28;01mreturn\u001b[39;00m make_dataset(directory, class_to_idx, extensions\u001b[38;5;241m=\u001b[39mextensions, is_valid_file\u001b[38;5;241m=\u001b[39mis_valid_file)\n",
      "File \u001b[1;32mD:\\Anaconda\\Lib\\site-packages\\torchvision\\datasets\\folder.py:102\u001b[0m, in \u001b[0;36mmake_dataset\u001b[1;34m(directory, class_to_idx, extensions, is_valid_file)\u001b[0m\n\u001b[0;32m    100\u001b[0m     \u001b[38;5;28;01mif\u001b[39;00m extensions \u001b[38;5;129;01mis\u001b[39;00m \u001b[38;5;129;01mnot\u001b[39;00m \u001b[38;5;28;01mNone\u001b[39;00m:\n\u001b[0;32m    101\u001b[0m         msg \u001b[38;5;241m+\u001b[39m\u001b[38;5;241m=\u001b[39m \u001b[38;5;124mf\u001b[39m\u001b[38;5;124m\"\u001b[39m\u001b[38;5;124mSupported extensions are: \u001b[39m\u001b[38;5;132;01m{\u001b[39;00mextensions\u001b[38;5;250m \u001b[39m\u001b[38;5;28;01mif\u001b[39;00m\u001b[38;5;250m \u001b[39m\u001b[38;5;28misinstance\u001b[39m(extensions,\u001b[38;5;250m \u001b[39m\u001b[38;5;28mstr\u001b[39m)\u001b[38;5;250m \u001b[39m\u001b[38;5;28;01melse\u001b[39;00m\u001b[38;5;250m \u001b[39m\u001b[38;5;124m'\u001b[39m\u001b[38;5;124m, \u001b[39m\u001b[38;5;124m'\u001b[39m\u001b[38;5;241m.\u001b[39mjoin(extensions)\u001b[38;5;132;01m}\u001b[39;00m\u001b[38;5;124m\"\u001b[39m\n\u001b[1;32m--> 102\u001b[0m     \u001b[38;5;28;01mraise\u001b[39;00m \u001b[38;5;167;01mFileNotFoundError\u001b[39;00m(msg)\n\u001b[0;32m    104\u001b[0m \u001b[38;5;28;01mreturn\u001b[39;00m instances\n",
      "\u001b[1;31mFileNotFoundError\u001b[0m: Found no valid file for the classes .ipynb_checkpoints. Supported extensions are: .jpg, .jpeg, .png, .ppm, .bmp, .pgm, .tif, .tiff, .webp"
     ]
    }
   ],
   "source": [
    "data_dir = r\"D:/Jupyter/chexscan-folder/chexscan-experiment\"\n",
    "dataset = datasets.ImageFolder(root=data_dir, transform=transform)"
   ]
  },
  {
   "cell_type": "markdown",
   "id": "242bf865",
   "metadata": {},
   "source": [
    "## Define dataloader"
   ]
  },
  {
   "cell_type": "code",
   "execution_count": null,
   "id": "f3c98ffd",
   "metadata": {},
   "outputs": [],
   "source": [
    "dataloader = DataLoader(dataset, batch_size=32, shuffle=False)"
   ]
  },
  {
   "cell_type": "markdown",
   "id": "9f647bd0",
   "metadata": {},
   "source": [
    "## Function to evaluate model accuracy"
   ]
  },
  {
   "cell_type": "code",
   "execution_count": null,
   "id": "79663906",
   "metadata": {},
   "outputs": [],
   "source": [
    "def evaluate_model(model):\n",
    "    model.eval()\n",
    "    correct = 0\n",
    "    total = 0\n",
    "    with torch.no_grad():\n",
    "        for images, labels in dataloader:\n",
    "            images, labels = images.to(device), labels.to(device)\n",
    "            outputs = model(images)\n",
    "            _, predicted = torch.max(outputs, 1)\n",
    "            total += labels.size(0)\n",
    "            correct += (predicted == labels).sum().item()\n",
    "    accuracy = correct / total\n",
    "    return accuracy"
   ]
  },
  {
   "cell_type": "markdown",
   "id": "56e31a64",
   "metadata": {},
   "source": [
    "## Load saved models"
   ]
  },
  {
   "cell_type": "code",
   "execution_count": null,
   "id": "161f75d4",
   "metadata": {},
   "outputs": [],
   "source": [
    "model_vgg16 = load_saved_model('vgg16_model.pth')\n",
    "model_densenet121 = load_saved_model('densenet121_model.pth')\n",
    "model_resnet18 = load_saved_model('resnet18_model.pth')\n",
    "model_inception_v3 = load_saved_model('inception_v3_model.pth')\n",
    "model_alexnet = load_saved_model('alexnet_model.pth')\n",
    "model_chexnet = load_saved_model('chexnet_model.pth')"
   ]
  },
  {
   "cell_type": "markdown",
   "id": "4e2fe5fd",
   "metadata": {},
   "source": [
    "## Evaluate accuracy of each model"
   ]
  },
  {
   "cell_type": "code",
   "execution_count": null,
   "id": "daf70333",
   "metadata": {},
   "outputs": [],
   "source": [
    "accuracy_vgg16 = evaluate_model(model_vgg16)\n",
    "accuracy_densenet121 = evaluate_model(model_densenet121)\n",
    "accuracy_resnet18 = evaluate_model(model_resnet18)\n",
    "accuracy_inception_v3 = evaluate_model(model_inception_v3)\n",
    "accuracy_alexnet = evaluate_model(model_alexnet)\n",
    "accuracy_chexnet = evaluate_model(model_chexnet)"
   ]
  },
  {
   "cell_type": "markdown",
   "id": "61c647a5",
   "metadata": {},
   "source": [
    "## Create a dictionary to store model accuracies"
   ]
  },
  {
   "cell_type": "code",
   "execution_count": null,
   "id": "80a7dfe7",
   "metadata": {},
   "outputs": [],
   "source": [
    "model_accuracies = {\n",
    "    'vgg16': accuracy_vgg16,\n",
    "    'densenet121': accuracy_densenet121,\n",
    "    'resnet18': accuracy_resnet18,\n",
    "    'inception_v3': accuracy_inception_v3,\n",
    "    'alexnet': accuracy_alexnet,\n",
    "    'chexnet': accuracy_chexnet\n",
    "}"
   ]
  },
  {
   "cell_type": "markdown",
   "id": "6f1187ea",
   "metadata": {},
   "source": [
    "## Get top 3 models based on accuracy"
   ]
  },
  {
   "cell_type": "code",
   "execution_count": null,
   "id": "7408876d",
   "metadata": {},
   "outputs": [],
   "source": [
    "top_models = sorted(model_accuracies.items(), key=lambda x: x[1], reverse=True)[:3]\n",
    "print(\"Top 3 models based on accuracy:\")\n",
    "for model, accuracy in top_models:\n",
    "    print(f\"{model}: {accuracy}\")"
   ]
  },
  {
   "cell_type": "markdown",
   "id": "be6c0b25",
   "metadata": {},
   "source": [
    "## Load saved models for the top 3 models"
   ]
  },
  {
   "cell_type": "code",
   "execution_count": null,
   "id": "4b64fdda",
   "metadata": {},
   "outputs": [],
   "source": [
    "top_model_names = [model_name for model_name, _ in top_models]\n",
    "top_models = {}\n",
    "for model_name in top_model_names:\n",
    "    top_models[model_name] = load_saved_model(f\"{model_name}_model.pth\")"
   ]
  },
  {
   "cell_type": "markdown",
   "id": "eff389c2",
   "metadata": {},
   "source": [
    "## Compute weights for the top 3 models based on their accuracies"
   ]
  },
  {
   "cell_type": "code",
   "execution_count": null,
   "id": "bd36e6e6",
   "metadata": {},
   "outputs": [],
   "source": [
    "\n",
    "total_accuracy = sum(accuracy for _, accuracy in top_models.items())\n",
    "weights = {model_name: accuracy / total_accuracy for model_name, accuracy in top_models.items()}\n",
    "\n",
    "# Make predictions using the top 3 models\n",
    "def predict_top_models(images):\n",
    "    ensemble_prediction = torch.zeros(len(images), 3)\n",
    "    for model_name, model in top_models.items():\n",
    "        model.eval()\n",
    "        outputs = model(images)\n",
    "        ensemble_prediction += weights[model_name] * torch.softmax(outputs, dim=1)\n",
    "    return ensemble_prediction\n",
    "\n",
    "# Assuming you have a batch of images, you can use this function to get predictions\n",
    "images = torch.randn(10, 3, 224, 224)  # Example batch of images\n",
    "ensemble_predictions = predict_top_models(images)\n",
    "\n",
    "# Convert predictions to class labels and confidence scores\n",
    "class_names = ['Normal', 'Pneumonia', 'Tuberculosis']\n",
    "predictions_with_confidence = []\n",
    "for prediction in ensemble_predictions:\n",
    "    confidence_scores = prediction.tolist()\n",
    "    predicted_class_index = prediction.argmax().item()\n",
    "    predicted_class = class_names[predicted_class_index]\n",
    "    confidence = confidence_scores[predicted_class_index] * 100\n",
    "    prediction_with_confidence = {predicted_class: confidence}\n",
    "    predictions_with_confidence.append(prediction_with_confidence)\n",
    "\n",
    "# Print predictions with confidence\n",
    "for i, prediction in enumerate(predictions_with_confidence):\n",
    "    print(f\"Prediction for image {i + 1}: {prediction}\")"
   ]
  }
 ],
 "metadata": {
  "kernelspec": {
   "display_name": "Python 3 (ipykernel)",
   "language": "python",
   "name": "python3"
  },
  "language_info": {
   "codemirror_mode": {
    "name": "ipython",
    "version": 3
   },
   "file_extension": ".py",
   "mimetype": "text/x-python",
   "name": "python",
   "nbconvert_exporter": "python",
   "pygments_lexer": "ipython3",
   "version": "3.11.5"
  }
 },
 "nbformat": 4,
 "nbformat_minor": 5
}
