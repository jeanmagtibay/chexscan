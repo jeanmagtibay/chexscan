{
 "cells": [
  {
   "cell_type": "markdown",
   "id": "2f731ad9",
   "metadata": {},
   "source": [
    "# CheXScan Ensemble Experiment"
   ]
  },
  {
   "cell_type": "markdown",
   "id": "980d7496",
   "metadata": {},
   "source": [
    "## Libraries"
   ]
  },
  {
   "cell_type": "code",
   "execution_count": 1,
   "id": "6fa3efb3",
   "metadata": {},
   "outputs": [],
   "source": [
    "import torch\n",
    "from torchvision import datasets, transforms\n",
    "import torchvision.models as models\n",
    "from torch.utils.data import DataLoader\n",
    "import torch.nn as nn"
   ]
  },
  {
   "cell_type": "markdown",
   "id": "127a903e",
   "metadata": {},
   "source": [
    "## Define transforms for validation or test data"
   ]
  },
  {
   "cell_type": "code",
   "execution_count": 2,
   "id": "9ef914cb",
   "metadata": {},
   "outputs": [],
   "source": [
    "transform = transforms.Compose([\n",
    "    transforms.Resize((224, 224)),\n",
    "    transforms.ToTensor(),\n",
    "    transforms.Normalize(mean=[0.485, 0.456, 0.406], std=[0.229, 0.224, 0.225])\n",
    "])"
   ]
  },
  {
   "cell_type": "markdown",
   "id": "dcd0b3c1",
   "metadata": {},
   "source": [
    "## Define validation or test dataset"
   ]
  },
  {
   "cell_type": "code",
   "execution_count": 4,
   "id": "7d621b13",
   "metadata": {},
   "outputs": [],
   "source": [
    "data_dir = r\"D:/Jupyter/chexscan-folder/chexscan-experiment/data/test_data\"\n",
    "dataset = datasets.ImageFolder(root=data_dir, transform=transform)"
   ]
  },
  {
   "cell_type": "markdown",
   "id": "242bf865",
   "metadata": {},
   "source": [
    "## Define dataloader"
   ]
  },
  {
   "cell_type": "code",
   "execution_count": 5,
   "id": "f3c98ffd",
   "metadata": {},
   "outputs": [],
   "source": [
    "dataloader = DataLoader(dataset, batch_size=32, shuffle=False)"
   ]
  },
  {
   "cell_type": "markdown",
   "id": "9f647bd0",
   "metadata": {},
   "source": [
    "## Function to evaluate model accuracy"
   ]
  },
  {
   "cell_type": "code",
   "execution_count": 6,
   "id": "79663906",
   "metadata": {},
   "outputs": [],
   "source": [
    "def evaluate_model(model):\n",
    "    model.eval()\n",
    "    correct = 0\n",
    "    total = 0\n",
    "    with torch.no_grad():\n",
    "        for images, labels in dataloader:\n",
    "            images, labels = images.to(device), labels.to(device)\n",
    "            outputs = model(images)\n",
    "            _, predicted = torch.max(outputs, 1)\n",
    "            total += labels.size(0)\n",
    "            correct += (predicted == labels).sum().item()\n",
    "    accuracy = correct / total\n",
    "    return accuracy"
   ]
  },
  {
   "cell_type": "markdown",
   "id": "56e31a64",
   "metadata": {},
   "source": [
    "## Load saved models"
   ]
  },
  {
   "cell_type": "code",
   "execution_count": 7,
   "id": "bf3b934b",
   "metadata": {},
   "outputs": [
    {
     "ename": "NameError",
     "evalue": "name 'model_paths' is not defined",
     "output_type": "error",
     "traceback": [
      "\u001b[1;31m---------------------------------------------------------------------------\u001b[0m",
      "\u001b[1;31mNameError\u001b[0m                                 Traceback (most recent call last)",
      "Cell \u001b[1;32mIn[7], line 4\u001b[0m\n\u001b[0;32m      1\u001b[0m models_dict \u001b[38;5;241m=\u001b[39m {}\n\u001b[0;32m      2\u001b[0m device \u001b[38;5;241m=\u001b[39m torch\u001b[38;5;241m.\u001b[39mdevice(\u001b[38;5;124m\"\u001b[39m\u001b[38;5;124mcuda\u001b[39m\u001b[38;5;124m\"\u001b[39m \u001b[38;5;28;01mif\u001b[39;00m torch\u001b[38;5;241m.\u001b[39mcuda\u001b[38;5;241m.\u001b[39mis_available() \u001b[38;5;28;01melse\u001b[39;00m \u001b[38;5;124m\"\u001b[39m\u001b[38;5;124mcpu\u001b[39m\u001b[38;5;124m\"\u001b[39m)\n\u001b[1;32m----> 4\u001b[0m \u001b[38;5;28;01mfor\u001b[39;00m model_name, model_path \u001b[38;5;129;01min\u001b[39;00m model_paths\u001b[38;5;241m.\u001b[39mitems():\n\u001b[0;32m      5\u001b[0m     checkpoint \u001b[38;5;241m=\u001b[39m torch\u001b[38;5;241m.\u001b[39mload(model_path)\n\u001b[0;32m      6\u001b[0m     \u001b[38;5;28;01mif\u001b[39;00m \u001b[38;5;28misinstance\u001b[39m(checkpoint, nn\u001b[38;5;241m.\u001b[39mModule):\n",
      "\u001b[1;31mNameError\u001b[0m: name 'model_paths' is not defined"
     ]
    }
   ],
   "source": [
    "models_dict = {}\n",
    "device = torch.device(\"cuda\" if torch.cuda.is_available() else \"cpu\")\n",
    "\n",
    "for model_name, model_path in model_paths.items():\n",
    "    checkpoint = torch.load(model_path)\n",
    "    if isinstance(checkpoint, nn.Module):\n",
    "        model = checkpoint\n",
    "    elif isinstance(checkpoint, dict):\n",
    "        model = checkpoint.get('model', checkpoint)  # Try to get the model or use the whole checkpoint\n",
    "    else:\n",
    "        model = checkpoint\n",
    "    if isinstance(model, nn.DataParallel):\n",
    "        model = model.module  # Extract the actual model from DataParallel\n",
    "    model.to(device)  # Move the model to the appropriate device\n",
    "    models_dict[model_name] = model  # Store the model in a dictionary"
   ]
  },
  {
   "cell_type": "code",
   "execution_count": 17,
   "id": "161f75d4",
   "metadata": {},
   "outputs": [
    {
     "ename": "NameError",
     "evalue": "name 'YourModelClass' is not defined",
     "output_type": "error",
     "traceback": [
      "\u001b[1;31m---------------------------------------------------------------------------\u001b[0m",
      "\u001b[1;31mNameError\u001b[0m                                 Traceback (most recent call last)",
      "Cell \u001b[1;32mIn[17], line 1\u001b[0m\n\u001b[1;32m----> 1\u001b[0m model_vgg16 \u001b[38;5;241m=\u001b[39m load_saved_model(\u001b[38;5;124m'\u001b[39m\u001b[38;5;124mvgg16.pth\u001b[39m\u001b[38;5;124m'\u001b[39m)\n\u001b[0;32m      2\u001b[0m model_densenet121 \u001b[38;5;241m=\u001b[39m load_saved_model(\u001b[38;5;124m'\u001b[39m\u001b[38;5;124mdensenet121.pth\u001b[39m\u001b[38;5;124m'\u001b[39m)\n\u001b[0;32m      3\u001b[0m model_resnet18 \u001b[38;5;241m=\u001b[39m load_saved_model(\u001b[38;5;124m'\u001b[39m\u001b[38;5;124mresnet18_model.pth\u001b[39m\u001b[38;5;124m'\u001b[39m)\n",
      "Cell \u001b[1;32mIn[12], line 2\u001b[0m, in \u001b[0;36mload_saved_model\u001b[1;34m(model_path)\u001b[0m\n\u001b[0;32m      1\u001b[0m \u001b[38;5;28;01mdef\u001b[39;00m \u001b[38;5;21mload_saved_model\u001b[39m(model_path):\n\u001b[1;32m----> 2\u001b[0m     model \u001b[38;5;241m=\u001b[39m YourModelClass()\n\u001b[0;32m      3\u001b[0m     checkpoint \u001b[38;5;241m=\u001b[39m torch\u001b[38;5;241m.\u001b[39mload(model_path)\n\u001b[0;32m      4\u001b[0m     model\u001b[38;5;241m.\u001b[39mload_state_dict(checkpoint[\u001b[38;5;124m'\u001b[39m\u001b[38;5;124mstate_dict\u001b[39m\u001b[38;5;124m'\u001b[39m])\n",
      "\u001b[1;31mNameError\u001b[0m: name 'YourModelClass' is not defined"
     ]
    }
   ],
   "source": [
    "model_vgg16 = load_saved_model('vgg16.pth')\n",
    "model_densenet121 = load_saved_model('densenet121.pth')\n",
    "model_resnet18 = load_saved_model('resnet18_model.pth')\n",
    "model_inception_v3 = load_saved_model('inceptionv3.pth')\n",
    "model_alexnet = load_saved_model('alexnet.pth')"
   ]
  },
  {
   "cell_type": "markdown",
   "id": "4e2fe5fd",
   "metadata": {},
   "source": [
    "## Evaluate accuracy of each model"
   ]
  },
  {
   "cell_type": "code",
   "execution_count": null,
   "id": "daf70333",
   "metadata": {},
   "outputs": [],
   "source": [
    "accuracy_vgg16 = evaluate_model(model_vgg16)\n",
    "accuracy_densenet121 = evaluate_model(model_densenet121)\n",
    "accuracy_resnet18 = evaluate_model(model_resnet18)\n",
    "accuracy_inception_v3 = evaluate_model(model_inception_v3)\n",
    "accuracy_alexnet = evaluate_model(model_alexnet)\n",
    "accuracy_chexnet = evaluate_model(model_chexnet)"
   ]
  },
  {
   "cell_type": "markdown",
   "id": "61c647a5",
   "metadata": {},
   "source": [
    "## Create a dictionary to store model accuracies"
   ]
  },
  {
   "cell_type": "code",
   "execution_count": null,
   "id": "80a7dfe7",
   "metadata": {},
   "outputs": [],
   "source": [
    "model_accuracies = {\n",
    "    'vgg16': accuracy_vgg16,\n",
    "    'densenet121': accuracy_densenet121,\n",
    "    'resnet18': accuracy_resnet18,\n",
    "    'inception_v3': accuracy_inception_v3,\n",
    "    'alexnet': accuracy_alexnet\n",
    "}"
   ]
  },
  {
   "cell_type": "markdown",
   "id": "6f1187ea",
   "metadata": {},
   "source": [
    "## Get top 3 models based on accuracy"
   ]
  },
  {
   "cell_type": "code",
   "execution_count": null,
   "id": "7408876d",
   "metadata": {},
   "outputs": [],
   "source": [
    "top_models = sorted(model_accuracies.items(), key=lambda x: x[1], reverse=True)[:3]\n",
    "print(\"Top 3 models based on accuracy:\")\n",
    "for model, accuracy in top_models:\n",
    "    print(f\"{model}: {accuracy}\")"
   ]
  },
  {
   "cell_type": "markdown",
   "id": "be6c0b25",
   "metadata": {},
   "source": [
    "## Load saved models for the top 3 models"
   ]
  },
  {
   "cell_type": "code",
   "execution_count": null,
   "id": "4b64fdda",
   "metadata": {},
   "outputs": [],
   "source": [
    "top_model_names = [model_name for model_name, _ in top_models]\n",
    "top_models = {}\n",
    "for model_name in top_model_names:\n",
    "    top_models[model_name] = load_saved_model(f\"{model_name}_model.pth\")"
   ]
  },
  {
   "cell_type": "markdown",
   "id": "eff389c2",
   "metadata": {},
   "source": [
    "## Compute weights for the top 3 models based on their accuracies"
   ]
  },
  {
   "cell_type": "code",
   "execution_count": null,
   "id": "bd36e6e6",
   "metadata": {},
   "outputs": [],
   "source": [
    "\n",
    "total_accuracy = sum(accuracy for _, accuracy in top_models.items())\n",
    "weights = {model_name: accuracy / total_accuracy for model_name, accuracy in top_models.items()}\n",
    "\n",
    "# Make predictions using the top 3 models\n",
    "def predict_top_models(images):\n",
    "    ensemble_prediction = torch.zeros(len(images), 3)\n",
    "    for model_name, model in top_models.items():\n",
    "        model.eval()\n",
    "        outputs = model(images)\n",
    "        ensemble_prediction += weights[model_name] * torch.softmax(outputs, dim=1)\n",
    "    return ensemble_prediction\n",
    "\n",
    "# Assuming you have a batch of images, you can use this function to get predictions\n",
    "images = torch.randn(10, 3, 224, 224)  # Example batch of images\n",
    "ensemble_predictions = predict_top_models(images)\n",
    "\n",
    "# Convert predictions to class labels and confidence scores\n",
    "class_names = ['Normal', 'Pneumonia', 'Tuberculosis']\n",
    "predictions_with_confidence = []\n",
    "for prediction in ensemble_predictions:\n",
    "    confidence_scores = prediction.tolist()\n",
    "    predicted_class_index = prediction.argmax().item()\n",
    "    predicted_class = class_names[predicted_class_index]\n",
    "    confidence = confidence_scores[predicted_class_index] * 100\n",
    "    prediction_with_confidence = {predicted_class: confidence}\n",
    "    predictions_with_confidence.append(prediction_with_confidence)\n",
    "\n",
    "# Print predictions with confidence\n",
    "for i, prediction in enumerate(predictions_with_confidence):\n",
    "    print(f\"Prediction for image {i + 1}: {prediction}\")"
   ]
  }
 ],
 "metadata": {
  "kernelspec": {
   "display_name": "Python 3 (ipykernel)",
   "language": "python",
   "name": "python3"
  },
  "language_info": {
   "codemirror_mode": {
    "name": "ipython",
    "version": 3
   },
   "file_extension": ".py",
   "mimetype": "text/x-python",
   "name": "python",
   "nbconvert_exporter": "python",
   "pygments_lexer": "ipython3",
   "version": "3.11.5"
  }
 },
 "nbformat": 4,
 "nbformat_minor": 5
}
