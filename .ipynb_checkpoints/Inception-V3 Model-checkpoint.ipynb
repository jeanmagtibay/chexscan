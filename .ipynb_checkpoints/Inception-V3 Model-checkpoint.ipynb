{
 "cells": [
  {
   "cell_type": "markdown",
   "metadata": {},
   "source": [
    "# CheXScan Inception-V3 Model"
   ]
  },
  {
   "cell_type": "markdown",
   "metadata": {},
   "source": [
    "## Libraries"
   ]
  },
  {
   "cell_type": "code",
   "execution_count": 1,
   "metadata": {
    "id": "AriPsxoPryLN"
   },
   "outputs": [],
   "source": [
    "import numpy as np\n",
    "import os\n",
    "\n",
    "import torch\n",
    "import torch.nn as nn\n",
    "import torch.nn.functional as F\n",
    "import torch.optim as optim\n",
    "from torchvision import datasets, transforms, models\n",
    "from torch.utils.data import DataLoader\n",
    "\n",
    "from sklearn.metrics import classification_report\n",
    "import matplotlib.pyplot as plt\n",
    "\n",
    "from PIL import Image"
   ]
  },
  {
   "cell_type": "markdown",
   "metadata": {},
   "source": [
    "## Run this code if you're using Colab"
   ]
  },
  {
   "cell_type": "markdown",
   "metadata": {
    "colab": {
     "base_uri": "https://localhost:8080/"
    },
    "executionInfo": {
     "elapsed": 2361,
     "status": "ok",
     "timestamp": 1711353819773,
     "user": {
      "displayName": "Redilla, Mary Rose N.",
      "userId": "07300537173449150115"
     },
     "user_tz": -480
    },
    "id": "kY5H61WCsR1o",
    "outputId": "cbaa7396-2faa-41fb-8367-568531d46ca3"
   },
   "source": [
    "from google.colab import drive\n",
    "drive.mount('/content/drive/')"
   ]
  },
  {
   "cell_type": "markdown",
   "metadata": {
    "id": "7RlsUq1dr5AZ"
   },
   "source": [
    "## Transform functions for data augmentation and normalization"
   ]
  },
  {
   "cell_type": "markdown",
   "metadata": {},
   "source": [
    "You can further adjust these parameters if needed to achieve the desired balance between augmentation and maintaining image quality."
   ]
  },
  {
   "cell_type": "markdown",
   "metadata": {},
   "source": [
    "#### train_transform and test_transform\n",
    "\n",
    "    Apply transformations to the input image for training data.\n",
    "\n",
    "    Parameters:\n",
    "        image (PIL.Image): Input image to be transformed.\n",
    "\n",
    "    Returns:\n",
    "        transformed_image (Tensor): Transformed image in tensor format."
   ]
  },
  {
   "cell_type": "code",
   "execution_count": 2,
   "metadata": {
    "id": "DJEVdE_vr1wA"
   },
   "outputs": [
    {
     "ename": "NameError",
     "evalue": "name 'F' is not defined",
     "output_type": "error",
     "traceback": [
      "\u001b[1;31m---------------------------------------------------------------------------\u001b[0m",
      "\u001b[1;31mNameError\u001b[0m                                 Traceback (most recent call last)",
      "Cell \u001b[1;32mIn[2], line 2\u001b[0m\n\u001b[0;32m      1\u001b[0m train_transform \u001b[38;5;241m=\u001b[39m transforms\u001b[38;5;241m.\u001b[39mCompose([   \n\u001b[1;32m----> 2\u001b[0m     transforms\u001b[38;5;241m.\u001b[39mResize((\u001b[38;5;241m299\u001b[39m, \u001b[38;5;241m299\u001b[39m), interpolation\u001b[38;5;241m=\u001b[39m\u001b[43mF\u001b[49m\u001b[38;5;241m.\u001b[39mInterpolationMode\u001b[38;5;241m.\u001b[39mNEAREST),\n\u001b[0;32m      3\u001b[0m     transforms\u001b[38;5;241m.\u001b[39mRandomHorizontalFlip(),\n\u001b[0;32m      4\u001b[0m     transforms\u001b[38;5;241m.\u001b[39mRandomRotation(\u001b[38;5;241m30\u001b[39m),\n\u001b[0;32m      5\u001b[0m     transforms\u001b[38;5;241m.\u001b[39mGrayscale(num_output_channels\u001b[38;5;241m=\u001b[39m\u001b[38;5;241m3\u001b[39m),\n\u001b[0;32m      6\u001b[0m     transforms\u001b[38;5;241m.\u001b[39mToTensor(),\n\u001b[0;32m      7\u001b[0m ])\n",
      "\u001b[1;31mNameError\u001b[0m: name 'F' is not defined"
     ]
    }
   ],
   "source": [
    "train_transform = transforms.Compose([   \n",
    "    transforms.Resize((299, 299), interpolation=F.InterpolationMode.NEAREST),\n",
    "    transforms.RandomHorizontalFlip(),\n",
    "    transforms.RandomRotation(30),\n",
    "    transforms.Grayscale(num_output_channels=3),\n",
    "    transforms.ToTensor(),\n",
    "])"
   ]
  },
  {
   "cell_type": "code",
   "execution_count": null,
   "metadata": {
    "id": "1Q06Jn-yr-FX"
   },
   "outputs": [],
   "source": [
    "test_transform = transforms.Compose([\n",
    "    transforms.Resize((299, 299)),\n",
    "    transforms.Grayscale(num_output_channels=3),\n",
    "    transforms.ToTensor()\n",
    "])"
   ]
  },
  {
   "cell_type": "markdown",
   "metadata": {
    "id": "TYZxGdIAn1HI"
   },
   "source": [
    "## Dataset Summary"
   ]
  },
  {
   "cell_type": "code",
   "execution_count": null,
   "metadata": {},
   "outputs": [],
   "source": [
    "data_dir = r\"C:/THESIS/chexscan/data\"\n",
    "train_data_dir = os.path.join(data_dir, 'train_data')\n",
    "test_data_dir = os.path.join(data_dir, 'test_data')"
   ]
  },
  {
   "cell_type": "code",
   "execution_count": null,
   "metadata": {
    "colab": {
     "base_uri": "https://localhost:8080/"
    },
    "executionInfo": {
     "elapsed": 5,
     "status": "ok",
     "timestamp": 1711353819774,
     "user": {
      "displayName": "Redilla, Mary Rose N.",
      "userId": "07300537173449150115"
     },
     "user_tz": -480
    },
    "id": "g0J1DkHaspPI",
    "outputId": "4a05b21f-3a0b-479c-f365-534ab00bb0a0"
   },
   "outputs": [],
   "source": [
    "def count_images_in_subdirectories(directory):\n",
    "    subdirectories = os.listdir(directory)\n",
    "    counts = {}\n",
    "    for subdir in subdirectories:\n",
    "        subdir_path = os.path.join(directory, subdir)\n",
    "        count = sum(len(files) for _, _, files in os.walk(subdir_path))\n",
    "        counts[subdir] = count\n",
    "    return counts"
   ]
  },
  {
   "cell_type": "code",
   "execution_count": null,
   "metadata": {},
   "outputs": [],
   "source": [
    "train_counts = count_images_in_subdirectories(train_data_dir)\n",
    "test_counts = count_images_in_subdirectories(test_data_dir)\n",
    "\n",
    "print(\"Number of images in each subdirectory of training data:\")\n",
    "for subdir, count in train_counts.items():\n",
    "    print(f\"{subdir}: {count}\")\n",
    "\n",
    "print(\"\\nNumber of images in each subdirectory of testing data:\")\n",
    "for subdir, count in test_counts.items():\n",
    "    print(f\"{subdir}: {count}\")"
   ]
  },
  {
   "cell_type": "markdown",
   "metadata": {
    "id": "tcR_hcy7sAMX"
   },
   "source": [
    "## Define datasets (Online)"
   ]
  },
  {
   "cell_type": "markdown",
   "metadata": {},
   "source": [
    "data_dir = '/content/drive/My Drive/THESIS/Datasets/Mary/'\n",
    "train_data = datasets.ImageFolder(os.path.join(data_dir, 'train_data'), transform=train_transform)\n",
    "test_data = datasets.ImageFolder(os.path.join(data_dir, 'test_data'), transform=test_transform)"
   ]
  },
  {
   "cell_type": "markdown",
   "metadata": {
    "id": "tcR_hcy7sAMX"
   },
   "source": [
    "## Define datasets (Local)"
   ]
  },
  {
   "cell_type": "code",
   "execution_count": null,
   "metadata": {
    "id": "gf8QHb5Kr-fw"
   },
   "outputs": [],
   "source": [
    "train_data = datasets.ImageFolder(train_data_dir, transform=train_transform)\n",
    "test_data = datasets.ImageFolder(test_data_dir, transform=test_transform)"
   ]
  },
  {
   "cell_type": "markdown",
   "metadata": {
    "id": "DAQTnDdKtIoH"
   },
   "source": [
    "## Define data loaders"
   ]
  },
  {
   "cell_type": "code",
   "execution_count": null,
   "metadata": {
    "id": "KKsO4nKDtGZW"
   },
   "outputs": [],
   "source": [
    "train_loader = DataLoader(train_data, batch_size=32, shuffle=True)\n",
    "test_loader = DataLoader(test_data, batch_size=32, shuffle=False)"
   ]
  },
  {
   "cell_type": "markdown",
   "metadata": {
    "id": "dgQ6EoRe3eyN"
   },
   "source": [
    "## Visualizes training data"
   ]
  },
  {
   "cell_type": "code",
   "execution_count": null,
   "metadata": {
    "colab": {
     "base_uri": "https://localhost:8080/",
     "height": 727
    },
    "executionInfo": {
     "elapsed": 8268,
     "status": "ok",
     "timestamp": 1711353828551,
     "user": {
      "displayName": "Redilla, Mary Rose N.",
      "userId": "07300537173449150115"
     },
     "user_tz": -480
    },
    "id": "Wzw5l8th3dxO",
    "outputId": "ad26db26-f7b8-472b-b984-887b3d4d2cad"
   },
   "outputs": [],
   "source": [
    "def visualize_training_data(loader):\n",
    "    \n",
    "    \"\"\"\n",
    "    Visualizes a batch of training images along with their corresponding labels.\n",
    "\n",
    "    Parameters:\n",
    "        loader (DataLoader): DataLoader containing the training dataset.\n",
    "\n",
    "    Returns:\n",
    "        None\n",
    "    \"\"\"\n",
    "    \n",
    "    classes = loader.dataset.classes\n",
    "    class_names = {i: classes[i] for i in range(len(classes))}\n",
    "    images, labels = next(iter(loader))\n",
    "    fig, axes = plt.subplots(figsize=(15, 7), ncols=5, nrows=2)\n",
    "    for i, ax in enumerate(axes.flat):\n",
    "        image = images[i].permute(1, 2, 0)\n",
    "        ax.imshow(image)\n",
    "        ax.set_title(class_names[labels[i].item()])\n",
    "        ax.axis('off')\n",
    "    plt.show()\n",
    "\n",
    "visualize_training_data(train_loader)"
   ]
  },
  {
   "cell_type": "markdown",
   "metadata": {
    "id": "LoLUwVq3se83"
   },
   "source": [
    "## Define Inception-V3 model"
   ]
  },
  {
   "cell_type": "code",
   "execution_count": null,
   "metadata": {
    "colab": {
     "base_uri": "https://localhost:8080/"
    },
    "executionInfo": {
     "elapsed": 771,
     "status": "ok",
     "timestamp": 1711353829318,
     "user": {
      "displayName": "Redilla, Mary Rose N.",
      "userId": "07300537173449150115"
     },
     "user_tz": -480
    },
    "id": "w2Zq4KqzsB0D",
    "outputId": "a802a2ad-38ef-4dc5-c812-8b960ed390b8"
   },
   "outputs": [],
   "source": [
    "model = models.inception_v3(pretrained=True)\n",
    "num_ftrs = model.fc.in_features\n",
    "model.fc = nn.Linear(num_ftrs, 3)  # 3 classes"
   ]
  },
  {
   "cell_type": "markdown",
   "metadata": {
    "id": "s3z6RyuUsoeM"
   },
   "source": [
    "## Define loss function and optimizer"
   ]
  },
  {
   "cell_type": "code",
   "execution_count": null,
   "metadata": {
    "id": "yUFW24ghsloS"
   },
   "outputs": [],
   "source": [
    "criterion = nn.CrossEntropyLoss()\n",
    "optimizer = optim.Adam(model.parameters(), lr=0.001)"
   ]
  },
  {
   "cell_type": "markdown",
   "metadata": {
    "id": "1pN4luFqstCw"
   },
   "source": [
    "## Move model to GPU if available"
   ]
  },
  {
   "cell_type": "code",
   "execution_count": null,
   "metadata": {
    "colab": {
     "base_uri": "https://localhost:8080/"
    },
    "executionInfo": {
     "elapsed": 2,
     "status": "ok",
     "timestamp": 1711353829318,
     "user": {
      "displayName": "Redilla, Mary Rose N.",
      "userId": "07300537173449150115"
     },
     "user_tz": -480
    },
    "id": "uaurboq9soFc",
    "outputId": "7f6306f1-5912-4099-d937-8972e4afd394"
   },
   "outputs": [],
   "source": [
    "device = torch.device(\"cuda\" if torch.cuda.is_available() else \"cpu\")\n",
    "model.to(device)"
   ]
  },
  {
   "cell_type": "markdown",
   "metadata": {
    "id": "97Wv4A-NncUP"
   },
   "source": [
    "## Target Accuracy"
   ]
  },
  {
   "cell_type": "code",
   "execution_count": null,
   "metadata": {
    "id": "ki6eAW06nVyg"
   },
   "outputs": [],
   "source": [
    "desired_val_accuracy = 0.99"
   ]
  },
  {
   "cell_type": "markdown",
   "metadata": {
    "id": "Jt8I46N6swvM"
   },
   "source": [
    "## Training the model"
   ]
  },
  {
   "cell_type": "code",
   "execution_count": null,
   "metadata": {
    "id": "aSkvQTKssrVe"
   },
   "outputs": [],
   "source": [
    "num_epochs = 15\n",
    "train_losses = []\n",
    "train_accuracies = []\n",
    "val_losses = []\n",
    "val_accuracies = []"
   ]
  },
  {
   "cell_type": "code",
   "execution_count": null,
   "metadata": {
    "colab": {
     "base_uri": "https://localhost:8080/"
    },
    "executionInfo": {
     "elapsed": 3103189,
     "status": "ok",
     "timestamp": 1711356932506,
     "user": {
      "displayName": "Redilla, Mary Rose N.",
      "userId": "07300537173449150115"
     },
     "user_tz": -480
    },
    "id": "FSy1HZrlswVS",
    "outputId": "50fbb9da-0b58-4960-b440-d70e1903373d"
   },
   "outputs": [],
   "source": [
    "for epoch in range(num_epochs):\n",
    "    model.train()\n",
    "    running_loss = 0.0\n",
    "    correct_train = 0\n",
    "    total_train = 0\n",
    "    for inputs, labels in train_loader:\n",
    "        inputs, labels = inputs.to(device), labels.to(device)\n",
    "        optimizer.zero_grad()\n",
    "        outputs = model(inputs)\n",
    "        \n",
    "        # Extract logits from InceptionOutputs\n",
    "        if isinstance(outputs, tuple):\n",
    "            outputs = outputs.logits\n",
    "        \n",
    "        loss = criterion(outputs, labels)\n",
    "        loss.backward()\n",
    "        optimizer.step()\n",
    "        running_loss += loss.item() * inputs.size(0)\n",
    "        \n",
    "        # Compute training accuracy\n",
    "        _, predicted_train = torch.max(outputs, 1)\n",
    "        total_train += labels.size(0)\n",
    "        correct_train += (predicted_train == labels).sum().item()\n",
    "        \n",
    "    epoch_loss = running_loss / len(train_data)\n",
    "    train_losses.append(epoch_loss)\n",
    "    \n",
    "    train_accuracy = correct_train / total_train\n",
    "    train_accuracies.append(train_accuracy)\n",
    "\n",
    "    model.eval()\n",
    "    val_loss = 0.0\n",
    "    correct_val = 0\n",
    "    total_val = 0\n",
    "    \n",
    "    with torch.no_grad():\n",
    "        for inputs, labels in test_loader:\n",
    "            inputs, labels = inputs.to(device), labels.to(device)\n",
    "            outputs = model(inputs)\n",
    "            \n",
    "            # Extract logits from InceptionOutputs\n",
    "            if isinstance(outputs, tuple):\n",
    "                outputs = outputs.logits\n",
    "            \n",
    "            loss = criterion(outputs, labels)\n",
    "            val_loss += loss.item() * inputs.size(0)\n",
    "            _, predicted_val = torch.max(outputs, 1)\n",
    "            total_val += labels.size(0)\n",
    "            correct_val += (predicted_val == labels).sum().item()\n",
    "    \n",
    "    val_loss /= len(test_data)\n",
    "    accuracy_val = correct_val / total_val\n",
    "    val_losses.append(val_loss)\n",
    "    val_accuracies.append(accuracy_val)\n",
    "    \n",
    "    print(f'Epoch [{epoch + 1}/{num_epochs}], '\n",
    "          f'Train Loss: {epoch_loss:.4f}, '\n",
    "          f'Train Accuracy: {train_accuracy:.4f}, '\n",
    "          f'Val Loss: {val_loss:.4f}, '\n",
    "          f'Val Accuracy: {accuracy_val:.4f}')"
   ]
  },
  {
   "cell_type": "markdown",
   "metadata": {
    "id": "ble3kjzpz5oI"
   },
   "source": [
    "## Training and validation loss"
   ]
  },
  {
   "cell_type": "code",
   "execution_count": null,
   "metadata": {
    "colab": {
     "base_uri": "https://localhost:8080/",
     "height": 487
    },
    "executionInfo": {
     "elapsed": 922,
     "status": "ok",
     "timestamp": 1711356933426,
     "user": {
      "displayName": "Redilla, Mary Rose N.",
      "userId": "07300537173449150115"
     },
     "user_tz": -480
    },
    "id": "YJpiQ3wUs0zR",
    "outputId": "a28e622e-21cb-46a2-ae06-65aeaf265956"
   },
   "outputs": [],
   "source": [
    "plt.figure(figsize=(10, 5))\n",
    "plt.plot(train_losses, label='Train Loss')\n",
    "plt.plot(val_losses, label='Val Loss')\n",
    "plt.xlabel('Epoch')\n",
    "plt.ylabel('Loss')\n",
    "plt.title('Training and Validation Loss')\n",
    "plt.legend()\n",
    "plt.show()"
   ]
  },
  {
   "cell_type": "code",
   "execution_count": null,
   "metadata": {},
   "outputs": [],
   "source": []
  },
  {
   "cell_type": "markdown",
   "metadata": {
    "id": "D_MdAjlj0B1C"
   },
   "source": [
    "## Plot validation accuracy"
   ]
  },
  {
   "cell_type": "code",
   "execution_count": null,
   "metadata": {
    "colab": {
     "base_uri": "https://localhost:8080/",
     "height": 487
    },
    "executionInfo": {
     "elapsed": 736,
     "status": "ok",
     "timestamp": 1711356934159,
     "user": {
      "displayName": "Redilla, Mary Rose N.",
      "userId": "07300537173449150115"
     },
     "user_tz": -480
    },
    "id": "iR6No-oJz3DO",
    "outputId": "eb131a23-3063-4dae-bde1-039639166d09"
   },
   "outputs": [],
   "source": [
    "plt.figure(figsize=(10, 5))\n",
    "plt.plot(val_accuracies, label='Val Accuracy')\n",
    "plt.xlabel('Epoch')\n",
    "plt.ylabel('Accuracy')\n",
    "plt.title('Validation Accuracy')\n",
    "plt.legend()\n",
    "plt.show()"
   ]
  },
  {
   "cell_type": "markdown",
   "metadata": {
    "id": "EYQ_u2QM-tl6"
   },
   "source": [
    "## Classification Report"
   ]
  },
  {
   "cell_type": "code",
   "execution_count": null,
   "metadata": {
    "colab": {
     "base_uri": "https://localhost:8080/"
    },
    "executionInfo": {
     "elapsed": 31498,
     "status": "ok",
     "timestamp": 1711356965655,
     "user": {
      "displayName": "Redilla, Mary Rose N.",
      "userId": "07300537173449150115"
     },
     "user_tz": -480
    },
    "id": "fIntQAtZ0A9x",
    "outputId": "8ebea4b2-ae5d-47df-a815-24c648b50fbf"
   },
   "outputs": [],
   "source": [
    "model.eval()\n",
    "predictions = []\n",
    "true_labels = []\n",
    "with torch.no_grad():\n",
    "    for inputs, labels in test_loader:\n",
    "        inputs, labels = inputs.to(device), labels.to(device)\n",
    "        outputs = model(inputs)\n",
    "        _, predicted = torch.max(outputs, 1)\n",
    "        predictions.extend(predicted.cpu().numpy())\n",
    "        true_labels.extend(labels.cpu().numpy())\n",
    "\n",
    "class_names = test_data.classes\n",
    "print(classification_report(true_labels, predictions, target_names=class_names))"
   ]
  },
  {
   "cell_type": "markdown",
   "metadata": {
    "id": "3F8NjN4e_HPO"
   },
   "source": [
    "## Input function"
   ]
  },
  {
   "cell_type": "code",
   "execution_count": null,
   "metadata": {
    "id": "Qu6egWhl-yAk"
   },
   "outputs": [],
   "source": [
    "def predict_image(image_path, model):\n",
    "    \n",
    "    \"\"\"\n",
    "    Predicts the class of an input image using a trained model.\n",
    "\n",
    "    Parameters:\n",
    "        image_path (str): Path to the input image file.\n",
    "        model (torch.nn.Module): Trained neural network model for image classification.\n",
    "\n",
    "    Returns:\n",
    "        predicted_class (str): Predicted class label for the input image.\n",
    "    \"\"\"\n",
    "    \n",
    "    image = Image.open(image_path)\n",
    "    image = test_transform(image).unsqueeze(0)\n",
    "    image = image.to(device)\n",
    "    model.eval()\n",
    "    with torch.no_grad():\n",
    "        output = model(image)\n",
    "        _, predicted = torch.max(output, 1)\n",
    "        predicted_class = class_names[predicted.item()]\n",
    "    return predicted_class"
   ]
  },
  {
   "cell_type": "code",
   "execution_count": null,
   "metadata": {
    "colab": {
     "base_uri": "https://localhost:8080/"
    },
    "executionInfo": {
     "elapsed": 6,
     "status": "ok",
     "timestamp": 1711356965655,
     "user": {
      "displayName": "Redilla, Mary Rose N.",
      "userId": "07300537173449150115"
     },
     "user_tz": -480
    },
    "id": "vtQZiwJM_Dp5",
    "outputId": "5ab110d3-6c7f-4fc3-df07-393c735e9baf"
   },
   "outputs": [],
   "source": [
    "# image_path = r\"D:/Jupyter/chexscan-folder/chexscan/test/normal.png\"\n",
    "# predicted_class = predict_image(image_path, model)\n",
    "# print(f'Predicted class: {predicted_class}')"
   ]
  },
  {
   "cell_type": "code",
   "execution_count": null,
   "metadata": {
    "colab": {
     "base_uri": "https://localhost:8080/"
    },
    "executionInfo": {
     "elapsed": 4,
     "status": "ok",
     "timestamp": 1711356965655,
     "user": {
      "displayName": "Redilla, Mary Rose N.",
      "userId": "07300537173449150115"
     },
     "user_tz": -480
    },
    "id": "tsayzjo4c8VP",
    "outputId": "bfff214a-c408-4d7b-e11a-7cf042096237"
   },
   "outputs": [],
   "source": [
    "# image_path = r\"D:/Jupyter/chexscan-folder/chexscan/test/pneumonia.jpeg\"\n",
    "# predicted_class = predict_image(image_path, model)\n",
    "# print(f'Predicted class: {predicted_class}')"
   ]
  },
  {
   "cell_type": "code",
   "execution_count": null,
   "metadata": {
    "colab": {
     "base_uri": "https://localhost:8080/"
    },
    "executionInfo": {
     "elapsed": 662,
     "status": "ok",
     "timestamp": 1711356966314,
     "user": {
      "displayName": "Redilla, Mary Rose N.",
      "userId": "07300537173449150115"
     },
     "user_tz": -480
    },
    "id": "2_rd1guMdY0P",
    "outputId": "fceca215-0874-4ef6-b16f-d3e139a38d76",
    "scrolled": true
   },
   "outputs": [],
   "source": [
    "# image_path = r\"D:/Jupyter/chexscan-folder/chexscan/test/tb.png\"\n",
    "# predicted_class = predict_image(image_path, model)\n",
    "# print(f'Predicted class: {predicted_class}')"
   ]
  },
  {
   "cell_type": "code",
   "execution_count": null,
   "metadata": {},
   "outputs": [],
   "source": [
    "torch.save(model.state_dict(), 'model.pth')"
   ]
  },
  {
   "cell_type": "code",
   "execution_count": null,
   "metadata": {},
   "outputs": [],
   "source": [
    "def predict(image_path):\n",
    "    image = Image.open(image_path)\n",
    "    image = test_transform(image).unsqueeze(0)\n",
    "    with torch.no_grad():\n",
    "        output = model(image)\n",
    "        _, predicted = torch.max(output, 1)\n",
    "    return predicted.item()"
   ]
  },
  {
   "cell_type": "code",
   "execution_count": null,
   "metadata": {},
   "outputs": [],
   "source": []
  }
 ],
 "metadata": {
  "accelerator": "GPU",
  "colab": {
   "gpuType": "T4",
   "provenance": []
  },
  "kernelspec": {
   "display_name": "Python 3 (ipykernel)",
   "language": "python",
   "name": "python3"
  },
  "language_info": {
   "codemirror_mode": {
    "name": "ipython",
    "version": 3
   },
   "file_extension": ".py",
   "mimetype": "text/x-python",
   "name": "python",
   "nbconvert_exporter": "python",
   "pygments_lexer": "ipython3",
   "version": "3.10.14"
  },
  "vscode": {
   "interpreter": {
    "hash": "ad2bdc8ecc057115af97d19610ffacc2b4e99fae6737bb82f5d7fb13d2f2c186"
   }
  }
 },
 "nbformat": 4,
 "nbformat_minor": 4
}
