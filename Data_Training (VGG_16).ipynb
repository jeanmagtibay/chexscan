{
 "cells": [
  {
   "cell_type": "code",
   "execution_count": 3,
   "metadata": {
    "colab": {
     "base_uri": "https://localhost:8080/"
    },
    "id": "tC9kwMboYxpV",
    "outputId": "fa2c2b19-1eb1-4622-e2d5-6a1fd798a9b7"
   },
   "outputs": [
    {
     "ename": "AttributeError",
     "evalue": "module 'tensorflow' has no attribute '__version__'",
     "output_type": "error",
     "traceback": [
      "\u001b[1;31m---------------------------------------------------------------------------\u001b[0m",
      "\u001b[1;31mAttributeError\u001b[0m                            Traceback (most recent call last)",
      "Cell \u001b[1;32mIn[3], line 11\u001b[0m\n\u001b[0;32m      9\u001b[0m \u001b[38;5;66;03m# Tensorflow\u001b[39;00m\n\u001b[0;32m     10\u001b[0m \u001b[38;5;28;01mimport\u001b[39;00m \u001b[38;5;21;01mtensorflow\u001b[39;00m \u001b[38;5;28;01mas\u001b[39;00m \u001b[38;5;21;01mtf\u001b[39;00m\n\u001b[1;32m---> 11\u001b[0m \u001b[38;5;28;01mimport\u001b[39;00m \u001b[38;5;21;01mtensorflow_addons\u001b[39;00m \u001b[38;5;28;01mas\u001b[39;00m \u001b[38;5;21;01mtfa\u001b[39;00m\n\u001b[0;32m     13\u001b[0m \u001b[38;5;66;03m# Keras\u001b[39;00m\n\u001b[0;32m     14\u001b[0m \u001b[38;5;28;01mfrom\u001b[39;00m \u001b[38;5;21;01mkeras\u001b[39;00m \u001b[38;5;28;01mimport\u001b[39;00m models, layers\n",
      "File \u001b[1;32me:\\JEAN\\Anaconda\\envs\\chexscan_\\lib\\site-packages\\tensorflow_addons\\__init__.py:20\u001b[0m\n\u001b[0;32m     17\u001b[0m \u001b[38;5;28;01mfrom\u001b[39;00m \u001b[38;5;21;01mtensorflow_addons\u001b[39;00m\u001b[38;5;21;01m.\u001b[39;00m\u001b[38;5;21;01mutils\u001b[39;00m\u001b[38;5;21;01m.\u001b[39;00m\u001b[38;5;21;01mtfa_eol_msg\u001b[39;00m \u001b[38;5;28;01mimport\u001b[39;00m _print_eol_warning\n\u001b[0;32m     19\u001b[0m _print_eol_warning()\n\u001b[1;32m---> 20\u001b[0m \u001b[43m_check_tf_version\u001b[49m\u001b[43m(\u001b[49m\u001b[43m)\u001b[49m\n\u001b[0;32m     22\u001b[0m \u001b[38;5;66;03m# Local project imports\u001b[39;00m\n\u001b[0;32m     23\u001b[0m \u001b[38;5;28;01mfrom\u001b[39;00m \u001b[38;5;21;01mtensorflow_addons\u001b[39;00m \u001b[38;5;28;01mimport\u001b[39;00m activations\n",
      "File \u001b[1;32me:\\JEAN\\Anaconda\\envs\\chexscan_\\lib\\site-packages\\tensorflow_addons\\utils\\ensure_tf_install.py:36\u001b[0m, in \u001b[0;36m_check_tf_version\u001b[1;34m()\u001b[0m\n\u001b[0;32m     29\u001b[0m \u001b[38;5;28;01mdef\u001b[39;00m \u001b[38;5;21m_check_tf_version\u001b[39m():\n\u001b[0;32m     30\u001b[0m \u001b[38;5;250m    \u001b[39m\u001b[38;5;124;03m\"\"\"Warn the user if the version of TensorFlow used is not supported.\u001b[39;00m\n\u001b[0;32m     31\u001b[0m \n\u001b[0;32m     32\u001b[0m \u001b[38;5;124;03m    This is not a check for custom ops compatibility. This check only ensure that\u001b[39;00m\n\u001b[0;32m     33\u001b[0m \u001b[38;5;124;03m    we support this TensorFlow version if the user uses only Addons' Python code.\u001b[39;00m\n\u001b[0;32m     34\u001b[0m \u001b[38;5;124;03m    \"\"\"\u001b[39;00m\n\u001b[1;32m---> 36\u001b[0m     \u001b[38;5;28;01mif\u001b[39;00m \u001b[38;5;124m\"\u001b[39m\u001b[38;5;124mdev\u001b[39m\u001b[38;5;124m\"\u001b[39m \u001b[38;5;129;01min\u001b[39;00m \u001b[43mtf\u001b[49m\u001b[38;5;241;43m.\u001b[39;49m\u001b[43m__version__\u001b[49m:\n\u001b[0;32m     37\u001b[0m         warnings\u001b[38;5;241m.\u001b[39mwarn(\n\u001b[0;32m     38\u001b[0m             \u001b[38;5;124m\"\u001b[39m\u001b[38;5;124mYou are currently using a nightly version of TensorFlow (\u001b[39m\u001b[38;5;132;01m{}\u001b[39;00m\u001b[38;5;124m). \u001b[39m\u001b[38;5;130;01m\\n\u001b[39;00m\u001b[38;5;124m\"\u001b[39m\n\u001b[0;32m     39\u001b[0m             \u001b[38;5;124m\"\u001b[39m\u001b[38;5;124mTensorFlow Addons offers no support for the nightly versions of \u001b[39m\u001b[38;5;124m\"\u001b[39m\n\u001b[1;32m   (...)\u001b[0m\n\u001b[0;32m     43\u001b[0m             \u001b[38;5;167;01mUserWarning\u001b[39;00m,\n\u001b[0;32m     44\u001b[0m         )\n\u001b[0;32m     45\u001b[0m         \u001b[38;5;28;01mreturn\u001b[39;00m\n",
      "\u001b[1;31mAttributeError\u001b[0m: module 'tensorflow' has no attribute '__version__'"
     ]
    }
   ],
   "source": [
    "import pandas as pd\n",
    "import numpy as np\n",
    "import matplotlib.pyplot as plt\n",
    "import seaborn as sns\n",
    "import os\n",
    "from PIL import Image\n",
    "from sklearn.metrics import classification_report\n",
    "\n",
    "# Tensorflow\n",
    "import tensorflow as tf\n",
    "import tensorflow_addons as tfa\n",
    "\n",
    "# Keras\n",
    "from keras import models, layers\n",
    "from keras.preprocessing import image\n",
    "from keras.preprocessing.image import ImageDataGenerator\n",
    "from keras.callbacks import ReduceLROnPlateau, EarlyStopping, ModelCheckpoint\n",
    "from keras.applications import VGG16\n",
    "\n",
    "# Warnings\n",
    "import warnings\n",
    "warnings.filterwarnings(\"ignore\")"
   ]
  },
  {
   "cell_type": "code",
   "execution_count": null,
   "metadata": {},
   "outputs": [],
   "source": [
    "nvidia-smi"
   ]
  },
  {
   "cell_type": "code",
   "execution_count": null,
   "metadata": {},
   "outputs": [],
   "source": [
    "import sys\n",
    "print(sys.version)\n"
   ]
  },
  {
   "cell_type": "markdown",
   "metadata": {
    "id": "RZGceO-LELCH"
   },
   "source": [
    "## Check GPU"
   ]
  },
  {
   "cell_type": "code",
   "execution_count": null,
   "metadata": {
    "colab": {
     "base_uri": "https://localhost:8080/"
    },
    "id": "YjnGdonbAs__",
    "outputId": "d9a95605-b3bc-401a-e382-c34c478f62cc"
   },
   "outputs": [],
   "source": [
    "# Check for available physical GPUs\n",
    "gpus = tf.config.list_physical_devices('GPU')\n",
    "if gpus:\n",
    "    # If there are GPUs available, TensorFlow should automatically utilize them\n",
    "    print(\"Available GPU(s):\")\n",
    "    for gpu in gpus:\n",
    "        print(gpu)\n",
    "else:\n",
    "    print(\"No GPU(s) available.\")"
   ]
  },
  {
   "cell_type": "code",
   "execution_count": null,
   "metadata": {},
   "outputs": [],
   "source": [
    "gpus = tf.config.list_physical_devices('GPU')\n",
    "if gpus:\n",
    "    try:\n",
    "        # Currently, memory growth needs to be the same across GPUs\n",
    "        for gpu in gpus:\n",
    "            tf.config.experimental.set_memory_growth(gpu, True)\n",
    "        logical_gpus = tf.config.experimental.list_logical_devices('GPU')\n",
    "        print(len(gpus), \"Physical GPU(s),\", len(logical_gpus), \"Logical GPU(s)\")\n",
    "    except RuntimeError as e:\n",
    "        # Memory growth must be set before GPUs have been initialized\n",
    "        print(e)"
   ]
  },
  {
   "cell_type": "code",
   "execution_count": null,
   "metadata": {},
   "outputs": [],
   "source": [
    "print(tf.config.list_physical_devices('GPU'))"
   ]
  },
  {
   "cell_type": "markdown",
   "metadata": {},
   "source": [
    "### Jerick PC"
   ]
  },
  {
   "cell_type": "markdown",
   "metadata": {
    "id": "C9o-skCxbfij"
   },
   "source": [
    "# Access image directory\n",
    "root_dir = r\"E:/JEAN/chexscan/data\"\n",
    "train_dir = root_dir + \"/train_data\"\n",
    "valid_dir = root_dir + \"/test_data\""
   ]
  },
  {
   "cell_type": "markdown",
   "metadata": {},
   "source": [
    "### Emman Laptop"
   ]
  },
  {
   "cell_type": "markdown",
   "metadata": {
    "id": "C9o-skCxbfij"
   },
   "source": [
    "# Access image directory\n",
    "root_dir = r\"E:\\Jean Eileen Magtibay\\chexscan\\data\"\n",
    "train_dir = root_dir + \"/train_data\"\n",
    "valid_dir = root_dir + \"/test_data\""
   ]
  },
  {
   "cell_type": "markdown",
   "metadata": {},
   "source": [
    "# Access image directory\n",
    "root_dir = r\"E:/Jean Eileen Magtibay/chexscan/others/dataset\"\n",
    "train_dir = root_dir + \"/train\"\n",
    "valid_dir = root_dir + \"/valid\""
   ]
  },
  {
   "cell_type": "code",
   "execution_count": null,
   "metadata": {},
   "outputs": [],
   "source": [
    "# Access image directory\n",
    "root_dir = r\"E:/chexscan/others/dataset\"\n",
    "train_dir = root_dir + \"/train\"\n",
    "valid_dir = root_dir + \"/valid\""
   ]
  },
  {
   "cell_type": "markdown",
   "metadata": {},
   "source": [
    "### Declaration"
   ]
  },
  {
   "cell_type": "code",
   "execution_count": null,
   "metadata": {
    "colab": {
     "base_uri": "https://localhost:8080/"
    },
    "id": "1AIKQco_b0wn",
    "outputId": "3328ac08-b517-4e5b-d9a4-f497cbbcfe38"
   },
   "outputs": [],
   "source": [
    "# Acquiring a list of all class names\n",
    "class_names = os.listdir(train_dir)\n",
    "print(class_names)"
   ]
  },
  {
   "cell_type": "code",
   "execution_count": null,
   "metadata": {
    "colab": {
     "base_uri": "https://localhost:8080/"
    },
    "id": "AinU2uHocXUR",
    "outputId": "22c6d7c9-7e08-4e5e-9740-cdd376d51cda"
   },
   "outputs": [],
   "source": [
    "IMAGE_SIZE = 224\n",
    "HEIGHT = 224\n",
    "WIDTH = 224\n",
    "CHANNELS = 3\n",
    "BATCH_SIZE = 32\n",
    "EPOCHS = 25\n",
    "\n",
    "n_classes = len(class_names)\n",
    "n_classes"
   ]
  },
  {
   "cell_type": "markdown",
   "metadata": {
    "id": "jaVeFQ3Plbt4"
   },
   "source": [
    "## Data Generator"
   ]
  },
  {
   "cell_type": "code",
   "execution_count": null,
   "metadata": {
    "colab": {
     "base_uri": "https://localhost:8080/"
    },
    "id": "017I8129cwgw",
    "outputId": "00b3010f-da77-4214-ddb6-44cde994887b"
   },
   "outputs": [],
   "source": [
    "img_size = (IMAGE_SIZE, IMAGE_SIZE)\n",
    "\n",
    "# train_datagen = ImageDataGenerator(\n",
    "#     rescale=1/255.,\n",
    "#     width_shift_range=0.1,\n",
    "#     height_shift_range=0.1,\n",
    "#     zoom_range=0.2,\n",
    "#     shear_range = 0.2,\n",
    "#     horizontal_flip = True,\n",
    "#     rotation_range=20,\n",
    "#     fill_mode='nearest',\n",
    "# )\n",
    "\n",
    "train_datagen = ImageDataGenerator(\n",
    "    rescale=1./255,  # Rescale pixel values to [0, 1]\n",
    "    rotation_range=20,  # Random rotation in the range [-15, 15] degrees\n",
    "    width_shift_range=0.1,  # Random horizontal shift by 10% of the width\n",
    "    height_shift_range=0.1,  # Random vertical shift by 10% of the height\n",
    "    brightness_range=[0.9, 1.1],  # Random brightness adjustment\n",
    "    shear_range=0.2,  # Random shearing transformation\n",
    "    zoom_range=0.2,  # Random zoom in the range [0.8, 1.2]\n",
    "    channel_shift_range=0.05,  # Random channel shifts\n",
    "    horizontal_flip=True,  # Random horizontal flipping\n",
    "    fill_mode='nearest',  # Fill mode for points outside the input boundaries\n",
    ")\n",
    "\n",
    "train_generator = train_datagen.flow_from_directory(\n",
    "    train_dir,\n",
    "    target_size=img_size,\n",
    "    batch_size=BATCH_SIZE,\n",
    "    class_mode='categorical'\n",
    ")"
   ]
  },
  {
   "cell_type": "code",
   "execution_count": null,
   "metadata": {
    "colab": {
     "base_uri": "https://localhost:8080/"
    },
    "id": "vRFF4_kQc2L7",
    "outputId": "57960587-40cc-4f6b-ec28-e697357e67ec"
   },
   "outputs": [],
   "source": [
    "valid_datagen = ImageDataGenerator(rescale=1/255.)\n",
    "\n",
    "valid_generator = valid_datagen.flow_from_directory(\n",
    "    valid_dir,\n",
    "    target_size=img_size,\n",
    "    batch_size=1,\n",
    "    shuffle=False,\n",
    "    class_mode='categorical'\n",
    ")"
   ]
  },
  {
   "cell_type": "code",
   "execution_count": null,
   "metadata": {
    "colab": {
     "base_uri": "https://localhost:8080/",
     "height": 595
    },
    "id": "QU2IV5utdD9_",
    "outputId": "1fdbf7a6-e5f5-44fe-dacf-ac2bb7d4de57"
   },
   "outputs": [],
   "source": [
    "# Get the class indices and names from the train generator\n",
    "class_indices = train_generator.class_indices\n",
    "label_to_name = {idx: name for name, idx in class_indices.items()}\n",
    "samples = train_generator.__next__()  # next fetches the image from the object. Each run gives a new set of images in the training set\n",
    "\n",
    "images = samples[0]\n",
    "target = samples[1]\n",
    "\n",
    "plt.figure(figsize=(12, 12))\n",
    "for i in range(15):\n",
    "    plt.subplot(5, 5, i + 1)\n",
    "    plt.subplots_adjust(hspace=0.3, wspace=0.3)\n",
    "    plt.imshow(images[i])\n",
    "\n",
    "    # Convert the float target to integer (0 or 1)\n",
    "    label_idx = tuple(target[i]).index(1)\n",
    "    class_name = label_to_name[label_idx]\n",
    "\n",
    "    plt.title(f\"Class: {class_name}\")\n",
    "    plt.axis('off')\n",
    "\n",
    "plt.show()"
   ]
  },
  {
   "cell_type": "code",
   "execution_count": null,
   "metadata": {
    "id": "4Z4rL-c3dGvr"
   },
   "outputs": [],
   "source": [
    "#Defining a custom callback function to stop training our model when accuracy goes above 99%\n",
    "# class MyCallback(tf.keras.callbacks.Callback):\n",
    "#     def on_epoch_end(self, epoch, logs={}):\n",
    "#         if logs.get('val_acc') > 0.99:\n",
    "#             print(\"\\nReached accuracy threshold! Terminating training.\")\n",
    "#             # self.model.stop_training = False\n",
    "\n",
    "# my_callback = MyCallback()\n",
    "\n",
    "#Defining a custom callback function to stop training our model when accuracy goes above 99%\n",
    "class MyCallback(tf.keras.callbacks.Callback):\n",
    "    def __init__(self, threshold_count):\n",
    "        super(MyCallback, self).__init__()\n",
    "        self.threshold_count = threshold_count\n",
    "        self.consecutive_count = 0\n",
    "\n",
    "    def on_epoch_end(self, epoch, logs={}):\n",
    "        if logs.get('val_acc') > 0.99:\n",
    "            self.consecutive_count += 1\n",
    "            if self.consecutive_count >= self.threshold_count:\n",
    "                print(\"\\nReached accuracy threshold 3 times! Terminating training.\")\n",
    "                self.model.stop_training = True\n",
    "        else:\n",
    "            self.consecutive_count = 0\n",
    "\n",
    "# Define the callback with the threshold count\n",
    "my_callback = MyCallback(threshold_count=3)\n",
    "\n",
    "#ReduceLROnPlateau to stabilize the training process of the model\n",
    "rop_callback = ReduceLROnPlateau(monitor=\"val_loss\",\n",
    "                                 patience=10)\n",
    "\n",
    "# EarlyStopping callback to stop training if val_loss does not improve after n epochs\n",
    "earlystop_cb = EarlyStopping(monitor='val_loss',\n",
    "                             patience=10,\n",
    "                             restore_best_weights=True)\n",
    "\n",
    "checkpoint_cb = ModelCheckpoint('model.h5', save_best_only=True)"
   ]
  },
  {
   "cell_type": "markdown",
   "metadata": {
    "id": "b1WDm3lzIZsa"
   },
   "source": [
    "# VGG16"
   ]
  },
  {
   "cell_type": "code",
   "execution_count": null,
   "metadata": {
    "colab": {
     "base_uri": "https://localhost:8080/"
    },
    "id": "LPbfT4M4dWnH",
    "outputId": "495f1fb7-60ec-4876-e6cc-fc21735ffc5f"
   },
   "outputs": [],
   "source": [
    "input_layer=layers.Input(shape=(IMAGE_SIZE,IMAGE_SIZE,CHANNELS))\n",
    "\n",
    "model_vgg16 = VGG16(weights='imagenet',\n",
    "                    input_tensor=input_layer,\n",
    "                    include_top=False)\n",
    "\n",
    "last_layer=model_vgg16.output\n",
    "\n",
    "flatten=layers.Flatten()(last_layer)\n",
    "\n",
    "output_layer=layers.Dense(n_classes,activation='softmax')(flatten)\n",
    "\n",
    "model_vgg16=models.Model(inputs=input_layer,outputs=output_layer)\n",
    "\n",
    "# Making all the layers intrainable except the last layer\n",
    "for layer in model_vgg16.layers[:-1]:\n",
    "    layer.trainable=False"
   ]
  },
  {
   "cell_type": "code",
   "execution_count": null,
   "metadata": {
    "id": "3uB_laNFdc0P"
   },
   "outputs": [],
   "source": [
    "METRICS = [tf.keras.metrics.BinaryAccuracy(name='acc'),\n",
    "           tfa.metrics.F1Score(num_classes=n_classes)]\n",
    "\n",
    "CALLBACKS = [my_callback, rop_callback, earlystop_cb] # Removed due to stopping condition \n",
    "# CALLBACKS = [rop_callback]\n"
   ]
  },
  {
   "cell_type": "code",
   "execution_count": null,
   "metadata": {
    "id": "Fykzh7NfdpoM"
   },
   "outputs": [],
   "source": [
    "model_vgg16.compile(optimizer='adam',\n",
    "                              loss=tf.losses.CategoricalCrossentropy(),\n",
    "                              metrics=METRICS)\n",
    "# model_vgg16.summary()"
   ]
  },
  {
   "cell_type": "code",
   "execution_count": null,
   "metadata": {
    "colab": {
     "base_uri": "https://localhost:8080/"
    },
    "id": "Nu0MlpkiHRYd",
    "outputId": "0ab69eaf-e2f8-46b3-d5ef-7653f512493c"
   },
   "outputs": [],
   "source": [
    "history_vgg = model_vgg16.fit(\n",
    "    train_generator,\n",
    "    batch_size=BATCH_SIZE,\n",
    "    verbose=True,\n",
    "    validation_data=valid_generator,\n",
    "    callbacks=CALLBACKS,\n",
    "    epochs=EPOCHS\n",
    ")"
   ]
  },
  {
   "cell_type": "code",
   "execution_count": null,
   "metadata": {
    "colab": {
     "base_uri": "https://localhost:8080/"
    },
    "id": "ion8Z-Sodql1",
    "outputId": "26bb840f-2307-4104-e612-e5062c38c5ea"
   },
   "outputs": [],
   "source": [
    "predictions = model_vgg16.predict(valid_generator)\n",
    "\n",
    "# Obtain the true labels from the test_generator\n",
    "true_labels = valid_generator.classes\n",
    "\n",
    "# Generate the classification report\n",
    "report = classification_report(true_labels, predictions.argmax(axis=1), target_names=class_names)\n",
    "print(report)"
   ]
  },
  {
   "cell_type": "code",
   "execution_count": null,
   "metadata": {
    "colab": {
     "base_uri": "https://localhost:8080/",
     "height": 455
    },
    "id": "tiRX-HMMHM2q",
    "outputId": "7c1854dc-e5aa-457c-cabc-0095bdbe6247"
   },
   "outputs": [],
   "source": [
    "sns.set(style=\"whitegrid\", rc={\"axes.grid\": True})\n",
    "\n",
    "# Create a color palette\n",
    "palette = sns.color_palette(\"husl\", 2)\n",
    "\n",
    "fig, ax = plt.subplots(1, 2, figsize=(20, 5))\n",
    "ax = ax.ravel()\n",
    "\n",
    "# Loop through metrics\n",
    "for i, metric in enumerate([\"acc\", \"loss\"]):\n",
    "    sns.lineplot(x=history_vgg.epoch, y=history_vgg.history[metric], ax=ax[i], label=\"Train\", color=palette[0])\n",
    "    sns.lineplot(x=history_vgg.epoch, y=history_vgg.history[\"val_\" + metric], ax=ax[i], label=\"Validation\", color=palette[1])\n",
    "\n",
    "    ax[i].set_title(f\"Model {metric.capitalize()}\")\n",
    "    ax[i].set_xlabel(\"Epochs\")\n",
    "    ax[i].set_ylabel(metric.capitalize())\n",
    "\n",
    "    ax[i].legend().set_visible(True)\n",
    "\n",
    "plt.tight_layout()\n",
    "plt.show()"
   ]
  },
  {
   "cell_type": "code",
   "execution_count": null,
   "metadata": {
    "id": "I4l4V6X2ex4R"
   },
   "outputs": [],
   "source": [
    "from PIL import Image\n",
    "\n",
    "def predict_image(model, class_names, image_path):\n",
    "    # Load and preprocess the image\n",
    "    img = Image.open(image_path)\n",
    "    img = img.resize((IMAGE_SIZE, IMAGE_SIZE))  # Resize the image\n",
    "    img_array = np.array(img)\n",
    "    img_array = np.expand_dims(img_array, axis=0)  # Add batch dimension\n",
    "    img_array = img_array.astype('float32') / 255.0  # Normalize the image\n",
    "\n",
    "    # Predict the class probabilities\n",
    "    prediction_probs = model.predict(img_array)\n",
    "\n",
    "    # Round off probabilities to four decimal places\n",
    "    prediction_probs = np.round(prediction_probs, 4)\n",
    "\n",
    "    # Map the prediction probabilities to class labels\n",
    "    predicted_class_index = np.argmax(prediction_probs)\n",
    "    predicted_class_label = class_names[predicted_class_index]\n",
    "\n",
    "    return predicted_class_label, prediction_probs"
   ]
  },
  {
   "cell_type": "code",
   "execution_count": null,
   "metadata": {
    "colab": {
     "base_uri": "https://localhost:8080/"
    },
    "id": "Lss9_wCJil6o",
    "outputId": "95fdfdef-ad19-485d-a58c-085f4e3b942d"
   },
   "outputs": [],
   "source": [
    "image_path = 'E:/Jean Eileen Magtibay/chexscan/test/normal.png'\n",
    "predicted_class = predict_image(model_vgg16, class_names, image_path)\n",
    "predicted_class"
   ]
  },
  {
   "cell_type": "code",
   "execution_count": null,
   "metadata": {
    "colab": {
     "base_uri": "https://localhost:8080/"
    },
    "id": "sAo6y5PuvwZQ",
    "outputId": "6d7b49a5-b197-4662-fd4c-768d06c898a6"
   },
   "outputs": [],
   "source": [
    "image_path = \"E:/Jean Eileen Magtibay/chexscan/test/pneumonia.jpeg\"\n",
    "predicted_class = predict_image(model_vgg16, class_names, image_path)\n",
    "predicted_class"
   ]
  },
  {
   "cell_type": "code",
   "execution_count": null,
   "metadata": {
    "colab": {
     "base_uri": "https://localhost:8080/"
    },
    "id": "5yD34XnnXDo3",
    "outputId": "13268c15-f45d-4283-f269-f68e4cb234f5"
   },
   "outputs": [],
   "source": [
    "image_path = \"E:/Jean Eileen Magtibay/chexscan/test/tb.png\"\n",
    "predicted_class = predict_image(model_vgg16, class_names, image_path)\n",
    "predicted_class"
   ]
  },
  {
   "cell_type": "code",
   "execution_count": null,
   "metadata": {
    "id": "IAYHB0QSxp9n"
   },
   "outputs": [],
   "source": [
    "model_path = './chexscan'\n",
    "model_json = model_vgg16.to_json()\n",
    "with open(model_path, \"w\") as json_file:\n",
    "  json_file.write(model_json)\n",
    "\n",
    "model_vgg16.save_weights(\"vgg16_model.hdf5\")"
   ]
  },
  {
   "cell_type": "code",
   "execution_count": null,
   "metadata": {},
   "outputs": [],
   "source": []
  }
 ],
 "metadata": {
  "accelerator": "GPU",
  "colab": {
   "gpuType": "T4",
   "provenance": []
  },
  "kernelspec": {
   "display_name": "Python 3 (ipykernel)",
   "language": "python",
   "name": "python3"
  },
  "language_info": {
   "codemirror_mode": {
    "name": "ipython",
    "version": 3
   },
   "file_extension": ".py",
   "mimetype": "text/x-python",
   "name": "python",
   "nbconvert_exporter": "python",
   "pygments_lexer": "ipython3",
   "version": "3.9.19"
  }
 },
 "nbformat": 4,
 "nbformat_minor": 4
}
