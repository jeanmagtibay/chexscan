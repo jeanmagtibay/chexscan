{
 "cells": [
  {
   "cell_type": "code",
   "execution_count": 1,
   "metadata": {},
   "outputs": [],
   "source": [
    "import os\n",
    "import random\n",
    "import shutil\n",
    "import cv2"
   ]
  },
  {
   "cell_type": "code",
   "execution_count": 2,
   "metadata": {},
   "outputs": [],
   "source": [
    "# Define class name to pre-process\n",
    "class_name = \"tuberculosis\""
   ]
  },
  {
   "cell_type": "code",
   "execution_count": 3,
   "metadata": {},
   "outputs": [],
   "source": [
    "# Access image directory\n",
    "root_dir = r\"C:/THESIS/chexscan\"\n",
    "data_dir = os.path.join(root_dir, \"chexscan_data\", class_name)\n",
    "prep_dir = os.path.join(root_dir, f\"bnw_data/{class_name}\")\n",
    "\n",
    "# Create a directory for pre-processed data\n",
    "os.makedirs(prep_dir, exist_ok=True)"
   ]
  },
  {
   "cell_type": "code",
   "execution_count": 4,
   "metadata": {},
   "outputs": [],
   "source": [
    "# Output directories for train and validation data\n",
    "train_dir = f\"data/train_data/{class_name}\"\n",
    "valid_dir = f\"data/test_data/{class_name}\"\n",
    "\n",
    "# Create the train and validation directories if they don't exist\n",
    "os.makedirs(train_dir, exist_ok=True)\n",
    "os.makedirs(valid_dir, exist_ok=True)"
   ]
  },
  {
   "cell_type": "code",
   "execution_count": 5,
   "metadata": {},
   "outputs": [],
   "source": [
    "# Pre-process image\n",
    "img_files = os.listdir(data_dir)\n",
    "\n",
    "for file in img_files:\n",
    "  img_path = os.path.join(data_dir, file)\n",
    "  img_read = cv2.imread(img_path)\n",
    "  img = cv2.cvtColor(img_read, cv2.COLOR_BGR2GRAY)\n",
    "\n",
    "  output_path = os.path.join(prep_dir, file)\n",
    "  cv2.imwrite(output_path, img)"
   ]
  },
  {
   "cell_type": "code",
   "execution_count": 6,
   "metadata": {},
   "outputs": [],
   "source": [
    "# List all the image files in the data directory\n",
    "image_files = [f for f in os.listdir(data_dir) if f.endswith((\".jpg\", \".jpeg\", \".png\", \".gif\", \"JPG\"))]\n",
    "\n",
    "# Calculate the number of images for the train and validation sets\n",
    "total_images = len(image_files)\n",
    "train_ratio = 0.8\n",
    "num_train = int(total_images * train_ratio)\n",
    "num_valid = total_images - num_train\n",
    "\n",
    "# Randomly shuffle the list of image files\n",
    "random.shuffle(image_files)"
   ]
  },
  {
   "cell_type": "code",
   "execution_count": 7,
   "metadata": {},
   "outputs": [
    {
     "name": "stdout",
     "output_type": "stream",
     "text": [
      "Split 2000 images for tuberculosis into 1600 for training and 400 for validation.\n"
     ]
    }
   ],
   "source": [
    "# Copy the first 'num_train' images to the train directory\n",
    "for i in range(num_train):\n",
    "    src = os.path.join(prep_dir, image_files[i])\n",
    "    dst = os.path.join(train_dir, image_files[i])\n",
    "    shutil.copy(src, dst)\n",
    "\n",
    "# Copy the remaining images to the validation directory\n",
    "for i in range(num_train, total_images):\n",
    "    src = os.path.join(prep_dir, image_files[i])\n",
    "    dst = os.path.join(valid_dir, image_files[i])\n",
    "    shutil.copy(src, dst)\n",
    "\n",
    "print(f\"Split {total_images} images for {class_name} into {num_train} for training and {num_valid} for validation.\")"
   ]
  }
 ],
 "metadata": {
  "kernelspec": {
   "display_name": "base",
   "language": "python",
   "name": "python3"
  },
  "language_info": {
   "codemirror_mode": {
    "name": "ipython",
    "version": 3
   },
   "file_extension": ".py",
   "mimetype": "text/x-python",
   "name": "python",
   "nbconvert_exporter": "python",
   "pygments_lexer": "ipython3",
   "version": "3.10.14"
  }
 },
 "nbformat": 4,
 "nbformat_minor": 2
}
