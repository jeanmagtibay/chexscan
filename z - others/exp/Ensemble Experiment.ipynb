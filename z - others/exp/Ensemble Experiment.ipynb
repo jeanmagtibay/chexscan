{
 "cells": [
  {
   "cell_type": "markdown",
   "id": "1da37e58",
   "metadata": {},
   "source": [
    "# CheXScan"
   ]
  },
  {
   "cell_type": "markdown",
   "id": "2bde16ef",
   "metadata": {},
   "source": [
    "## Libraries"
   ]
  },
  {
   "cell_type": "code",
   "execution_count": null,
   "id": "610e80ca",
   "metadata": {},
   "outputs": [],
   "source": [
    "import torch\n",
    "import torch.nn as nn\n",
    "import torch.optim as optim\n",
    "from torchvision import datasets, transforms\n",
    "import torchvision.models as models\n",
    "from torch.utils.data import DataLoader\n",
    "\n",
    "from sklearn.metrics import classification_report, confusion_matrix\n",
    "from sklearn.metrics import accuracy_score\n",
    "from sklearn.ensemble import VotingClassifier\n",
    "\n",
    "import numpy as np\n",
    "import matplotlib.pyplot as plt\n",
    "import seaborn as sns\n",
    "\n",
    "from PIL import Image"
   ]
  },
  {
   "cell_type": "markdown",
   "id": "80f93a82",
   "metadata": {},
   "source": [
    "## Constants"
   ]
  },
  {
   "cell_type": "code",
   "execution_count": null,
   "id": "2517a6c0",
   "metadata": {},
   "outputs": [],
   "source": [
    "BATCH_SIZE = 32\n",
    "IMAGE_SIZE = (299, 299)\n",
    "CLASSES = ['normal', 'pneumonia', 'tuberculosis']\n",
    "NUM_CLASSES = len(CLASSES)\n",
    "EPOCHS = 2"
   ]
  },
  {
   "cell_type": "markdown",
   "id": "50e73a26",
   "metadata": {},
   "source": [
    "## Preprocessing"
   ]
  },
  {
   "cell_type": "code",
   "execution_count": null,
   "id": "43b7fe48",
   "metadata": {},
   "outputs": [],
   "source": [
    "preprocess_transform = transforms.Compose([\n",
    "    transforms.Resize(IMAGE_SIZE),\n",
    "    transforms.ToTensor(),\n",
    "    transforms.Normalize(mean=[0.485, 0.456, 0.406], std=[0.229, 0.224, 0.225])\n",
    "])"
   ]
  },
  {
   "cell_type": "code",
   "execution_count": null,
   "id": "9a4edb29",
   "metadata": {},
   "outputs": [],
   "source": [
    "data_augmentation_transform = transforms.Compose([\n",
    "    transforms.RandomHorizontalFlip(),\n",
    "    transforms.RandomRotation(10),\n",
    "    transforms.RandomAffine(0, shear=10, scale=(0.8, 1.2)),\n",
    "    transforms.ColorJitter(brightness=0.2, contrast=0.2, saturation=0.2),\n",
    "    transforms.RandomResizedCrop(IMAGE_SIZE, scale=(0.8, 1.0)),\n",
    "])"
   ]
  },
  {
   "cell_type": "markdown",
   "id": "e56f9891",
   "metadata": {},
   "source": [
    "## Loading Datasets"
   ]
  },
  {
   "cell_type": "code",
   "execution_count": null,
   "id": "35a8b013",
   "metadata": {},
   "outputs": [],
   "source": [
    "train_dataset = datasets.ImageFolder(root='D:/Jupyter/chexscan-folder/chexscan-experiment/data/train_data', transform=preprocess_transform)\n",
    "valid_dataset = datasets.ImageFolder(root='D:/Jupyter/chexscan-folder/chexscan-experiment/data/test_data', transform=preprocess_transform)"
   ]
  },
  {
   "cell_type": "code",
   "execution_count": null,
   "id": "2e3e9d00",
   "metadata": {},
   "outputs": [],
   "source": [
    "train_loader = DataLoader(train_dataset, batch_size=BATCH_SIZE, shuffle=True)\n",
    "valid_loader = DataLoader(valid_dataset, batch_size=BATCH_SIZE, shuffle=False)"
   ]
  },
  {
   "cell_type": "markdown",
   "id": "8b20a348",
   "metadata": {},
   "source": [
    "## Training Parameters"
   ]
  },
  {
   "cell_type": "code",
   "execution_count": null,
   "id": "11ade461",
   "metadata": {},
   "outputs": [],
   "source": [
    "device = torch.device(\"cuda\" if torch.cuda.is_available() else \"cpu\")\n",
    "num_epochs = EPOCHS\n",
    "learning_rate = 0.001\n",
    "criterion = nn.CrossEntropyLoss()"
   ]
  },
  {
   "cell_type": "markdown",
   "id": "49073976",
   "metadata": {},
   "source": [
    "## Functions"
   ]
  },
  {
   "cell_type": "markdown",
   "id": "7d5468d3",
   "metadata": {},
   "source": [
    "### Training Function"
   ]
  },
  {
   "cell_type": "code",
   "execution_count": null,
   "id": "3219defc",
   "metadata": {},
   "outputs": [],
   "source": [
    "def train_model(model, train_loader, valid_loader, criterion, optimizer, num_epochs=10, device='cpu'):\n",
    "    history = {'accuracy': [], 'val_accuracy': [], 'loss': [], 'val_loss': []}\n",
    "    all_true_labels = []\n",
    "    all_predicted_labels = []\n",
    "    \n",
    "    for epoch in range(num_epochs):\n",
    "        model.train()\n",
    "        running_loss = 0.0\n",
    "        correct = 0\n",
    "        total = 0\n",
    "        \n",
    "        for images, labels in train_loader:\n",
    "            images, labels = images.to(device), labels.to(device)\n",
    "            optimizer.zero_grad()\n",
    "            outputs = model(images)\n",
    "            loss = criterion(outputs, labels)\n",
    "            loss.backward()\n",
    "            optimizer.step()\n",
    "            _, predicted = torch.max(outputs, 1)\n",
    "            total += labels.size(0)\n",
    "            correct += (predicted == labels).sum().item()\n",
    "            running_loss += loss.item()\n",
    "            \n",
    "            # Store true and predicted labels for training data\n",
    "            all_true_labels.extend(labels.cpu().numpy())\n",
    "            all_predicted_labels.extend(predicted.cpu().numpy())\n",
    "        \n",
    "        # Compute training accuracy and loss\n",
    "        train_accuracy = correct / total\n",
    "        train_loss = running_loss / len(train_loader)\n",
    "        history['accuracy'].append(train_accuracy)\n",
    "        history['loss'].append(train_loss)\n",
    "        \n",
    "        # Validation\n",
    "        model.eval()\n",
    "        correct = 0\n",
    "        total = 0\n",
    "        val_running_loss = 0.0\n",
    "        val_true_labels = []\n",
    "        val_predicted_labels = []\n",
    "        \n",
    "        with torch.no_grad():\n",
    "            for images, labels in valid_loader:\n",
    "                images, labels = images.to(device), labels.to(device)\n",
    "                outputs = model(images)\n",
    "                loss = criterion(outputs, labels)\n",
    "                _, predicted = torch.max(outputs, 1)\n",
    "                total += labels.size(0)\n",
    "                correct += (predicted == labels).sum().item()\n",
    "                val_running_loss += loss.item()\n",
    "                \n",
    "                # Store true and predicted labels for validation data\n",
    "                val_true_labels.extend(labels.cpu().numpy())\n",
    "                val_predicted_labels.extend(predicted.cpu().numpy())\n",
    "        \n",
    "        # Compute validation accuracy and loss\n",
    "        val_accuracy = correct / total\n",
    "        val_loss = val_running_loss / len(valid_loader)\n",
    "        history['val_accuracy'].append(val_accuracy)\n",
    "        history['val_loss'].append(val_loss)\n",
    "        \n",
    "        # Print training progress\n",
    "        print(f\"Epoch [{epoch+1}/{num_epochs}], Loss: {train_loss:.4f}, Accuracy: {train_accuracy*100:.2f}%, Val Loss: {val_loss:.4f}, Val Accuracy: {val_accuracy*100:.2f}%\")\n",
    "    \n",
    "    return history, all_true_labels, all_predicted_labels\n"
   ]
  },
  {
   "cell_type": "markdown",
   "id": "be6a7e08",
   "metadata": {},
   "source": [
    "### Evaluation Function"
   ]
  },
  {
   "cell_type": "code",
   "execution_count": null,
   "id": "bde17b7e",
   "metadata": {},
   "outputs": [],
   "source": [
    "def evaluate_model(model, valid_loader, device='cpu'):\n",
    "    model.eval()\n",
    "    all_predictions = []\n",
    "    all_labels = []\n",
    "    with torch.no_grad():\n",
    "        for images, labels in valid_loader:\n",
    "            images, labels = images.to(device), labels.to(device)\n",
    "            outputs = model(images)\n",
    "            _, predicted = torch.max(outputs, 1)\n",
    "            all_predictions.extend(predicted.cpu().numpy())\n",
    "            all_labels.extend(labels.cpu().numpy())\n",
    "\n",
    "    return all_labels, all_predictions"
   ]
  },
  {
   "cell_type": "markdown",
   "id": "4822ff9b",
   "metadata": {},
   "source": [
    "### Visualization Function"
   ]
  },
  {
   "cell_type": "code",
   "execution_count": null,
   "id": "ae27ace7",
   "metadata": {},
   "outputs": [],
   "source": [
    "def plot_history_metrics(history):\n",
    "    history_dict, _, _ = history  # Unpack the tuple\n",
    "    \n",
    "    # Create a larger figure\n",
    "    plt.figure(figsize=(12, 6))\n",
    "\n",
    "    # Plot accuracy\n",
    "    plt.subplot(1, 2, 1)\n",
    "    plt.plot(history_dict['accuracy'], label='Training Accuracy', color='blue')\n",
    "    plt.plot(history_dict['val_accuracy'], label='Validation Accuracy', color='orange')\n",
    "    plt.title('Accuracy')\n",
    "    plt.xlabel('Epoch')\n",
    "    plt.ylabel('Accuracy')\n",
    "    plt.legend()\n",
    "\n",
    "    # Plot loss\n",
    "    plt.subplot(1, 2, 2)\n",
    "    plt.plot(history_dict['loss'], label='Training Loss', color='blue')\n",
    "    plt.plot(history_dict['val_loss'], label='Validation Loss', color='orange')\n",
    "    plt.title('Loss')\n",
    "    plt.xlabel('Epoch')\n",
    "    plt.ylabel('Loss')\n",
    "    plt.legend()\n",
    "\n",
    "    plt.tight_layout()\n",
    "    plt.show()"
   ]
  },
  {
   "cell_type": "code",
   "execution_count": null,
   "id": "4a6970d3",
   "metadata": {},
   "outputs": [],
   "source": [
    "def plot_confusion_matrix(true_labels, predicted_labels, class_names):\n",
    "    # Compute confusion matrix\n",
    "    cm = confusion_matrix(true_labels, predicted_labels)\n",
    "    \n",
    "    # Plot confusion matrix as a heatmap\n",
    "    plt.figure(figsize=(8, 8))\n",
    "    sns.heatmap(cm, annot=True, fmt='d', cmap='Blues', xticklabels=class_names, yticklabels=class_names)\n",
    "    plt.title('Confusion Matrix')\n",
    "    plt.xlabel('Predicted Labels')\n",
    "    plt.ylabel('True Labels')\n",
    "    plt.show()"
   ]
  },
  {
   "cell_type": "markdown",
   "id": "09f664b3",
   "metadata": {},
   "source": [
    "## AlexNet Model"
   ]
  },
  {
   "cell_type": "code",
   "execution_count": null,
   "id": "a83915cb",
   "metadata": {
    "scrolled": true
   },
   "outputs": [],
   "source": [
    "# Define AlexNet model\n",
    "alexnet_model = models.alexnet(pretrained=True)\n",
    "num_features = alexnet_model.classifier[6].in_features\n",
    "alexnet_model.classifier[6] = nn.Linear(num_features, NUM_CLASSES)\n",
    "alexnet_model = alexnet_model.to(device)\n",
    "\n",
    "# Train AlexNet model\n",
    "optimizer = optim.Adam(alexnet_model.parameters(), lr=learning_rate)\n",
    "history_alexnet = train_model(alexnet_model, train_loader, valid_loader, criterion, optimizer, num_epochs=EPOCHS, device=device)\n",
    "\n",
    "# Plot history for AlexNet\n",
    "plot_history_metrics(history_alexnet)\n",
    "\n",
    "# Evaluate AlexNet model\n",
    "true_labels_alexnet, predictions_alexnet = evaluate_model(alexnet_model, valid_loader, device=device)\n",
    "\n",
    "# Print classification report for AlexNet\n",
    "print(\"AlexNet Classification Report:\")\n",
    "print(classification_report(true_labels_alexnet, predictions_alexnet, target_names=CLASSES))\n",
    "\n",
    "print(\"AlexNet Confusion Matrix:\")\n",
    "plot_confusion_matrix(true_labels_alexnet, predictions_alexnet, CLASSES)"
   ]
  },
  {
   "cell_type": "markdown",
   "id": "727584a9",
   "metadata": {},
   "source": [
    "## DenseNet-121 Model"
   ]
  },
  {
   "cell_type": "code",
   "execution_count": null,
   "id": "e5a6d0b8",
   "metadata": {},
   "outputs": [],
   "source": [
    "# Define DenseNet-121 model\n",
    "densenet_model = models.densenet121(pretrained=True)\n",
    "num_features = densenet_model.classifier.in_features\n",
    "densenet_model.classifier = nn.Linear(num_features, NUM_CLASSES)\n",
    "densenet_model = densenet_model.to(device)\n",
    "\n",
    "# Train DenseNet-121 model\n",
    "optimizer = optim.Adam(densenet_model.parameters(), lr=learning_rate)\n",
    "history_densenet = train_model(densenet_model, train_loader, valid_loader, criterion, optimizer, num_epochs=EPOCHS, device=device)\n",
    "\n",
    "# Plot history for DenseNet-121\n",
    "plot_history_metrics(history_densenet)\n",
    "\n",
    "# Evaluate DenseNet-121 model\n",
    "true_labels_densenet, predictions_densenet = evaluate_model(densenet_model, valid_loader, device=device)\n",
    "\n",
    "# Print classification report for DenseNet-121\n",
    "print(\"DenseNet-121 Classification Report:\")\n",
    "print(classification_report(true_labels_densenet, predictions_densenet, target_names=CLASSES))\n",
    "\n",
    "# For DenseNet-121 model\n",
    "print(\"DenseNet-121 Confusion Matrix:\")\n",
    "plot_confusion_matrix(true_labels_densenet, predictions_densenet, CLASSES)"
   ]
  },
  {
   "cell_type": "markdown",
   "id": "e5c13032",
   "metadata": {},
   "source": [
    "## InceptionV3 Model"
   ]
  },
  {
   "cell_type": "code",
   "execution_count": null,
   "id": "f30671bf",
   "metadata": {},
   "outputs": [],
   "source": [
    "# # Define InceptionV3 model\n",
    "# inception_model = models.inception_v3(pretrained=True)\n",
    "# num_features = inception_model.fc.in_features\n",
    "# inception_model.fc = nn.Linear(num_features, NUM_CLASSES)\n",
    "# inception_model = inception_model.to(device)\n",
    "\n",
    "# # Train InceptionV3 model\n",
    "# optimizer = optim.Adam(inception_model.parameters(), lr=learning_rate)\n",
    "# history_inception = train_model(inception_model, train_loader, valid_loader, criterion, optimizer, num_epochs=EPOCHS, device=device)\n",
    "\n",
    "# # Plot history for InceptionV3\n",
    "# plot_history_metrics(history_inception)\n",
    "\n",
    "# # Evaluate InceptionV3 model\n",
    "# true_labels_inception, predictions_inception = evaluate_model(inception_model, valid_loader, device=device)\n",
    "\n",
    "# # Print classification report for InceptionV3\n",
    "# print(\"InceptionV3 Classification Report:\")\n",
    "# print(classification_report(true_labels_inception, predictions_inception, target_names=CLASSES))\n",
    "\n",
    "print(\"InceptionV3 Confusion Matrix:\")\n",
    "plot_confusion_matrix(true_labels_inception, predictions_inception, CLASSES)"
   ]
  },
  {
   "cell_type": "markdown",
   "id": "2a0e83b2",
   "metadata": {},
   "source": [
    "## VGG-16 Model"
   ]
  },
  {
   "cell_type": "code",
   "execution_count": null,
   "id": "6c51705d",
   "metadata": {},
   "outputs": [],
   "source": [
    "# Define VGG16 model\n",
    "vgg16_model = models.vgg16(pretrained=True)\n",
    "num_features = vgg16_model.classifier[6].in_features\n",
    "vgg16_model.classifier[6] = nn.Linear(num_features, NUM_CLASSES)\n",
    "vgg16_model = vgg16_model.to(device)\n",
    "\n",
    "# Train VGG16 model\n",
    "optimizer = optim.Adam(vgg16_model.parameters(), lr=learning_rate)\n",
    "history_vgg16 = train_model(vgg16_model, train_loader, valid_loader, criterion, optimizer, num_epochs=EPOCHS, device=device)\n",
    "\n",
    "# Plot history for VGG16\n",
    "plot_history_metrics(history_vgg16)\n",
    "\n",
    "# Evaluate VGG16 model\n",
    "true_labels_vgg16, predictions_vgg16 = evaluate_model(vgg16_model, valid_loader, device=device)\n",
    "\n",
    "# Print classification report for VGG16\n",
    "print(\"VGG16 Classification Report:\")\n",
    "print(classification_report(true_labels_vgg16, predictions_vgg16, target_names=CLASSES))\n",
    "\n",
    "print(\"VGG16 Confusion Matrix:\")\n",
    "plot_confusion_matrix(true_labels_vgg16, predictions_vgg16, CLASSES)"
   ]
  },
  {
   "cell_type": "markdown",
   "id": "beeb6f87",
   "metadata": {},
   "source": [
    "## ResNet-18 Model"
   ]
  },
  {
   "cell_type": "code",
   "execution_count": null,
   "id": "8130995e",
   "metadata": {},
   "outputs": [],
   "source": [
    "# Define ResNet-18 model\n",
    "resnet18_model = models.resnet18(pretrained=True)\n",
    "num_features = resnet18_model.fc.in_features\n",
    "resnet18_model.fc = nn.Linear(num_features, NUM_CLASSES)\n",
    "resnet18_model = resnet18_model.to(device)\n",
    "\n",
    "# Train ResNet-18 model\n",
    "optimizer = optim.Adam(resnet18_model.parameters(), lr=learning_rate)\n",
    "history_resnet18 = train_model(resnet18_model, train_loader, valid_loader, criterion, optimizer, num_epochs=EPOCHS, device=device)\n",
    "\n",
    "# Plot history for ResNet-18\n",
    "plot_history_metrics(history_resnet18)\n",
    "\n",
    "# Evaluate ResNet-18 model\n",
    "true_labels_resnet18, predictions_resnet18 = evaluate_model(resnet18_model, valid_loader, device=device)\n",
    "\n",
    "# Print classification report for ResNet-18\n",
    "print(\"ResNet-18 Classification Report:\")\n",
    "print(classification_report(true_labels_resnet18, predictions_resnet18, target_names=CLASSES))\n",
    "\n",
    "print(\"ResNet-18 Confusion Matrix:\")\n",
    "plot_confusion_matrix(true_labels_resnet18, predictions_resnet18, CLASSES)"
   ]
  },
  {
   "cell_type": "markdown",
   "id": "9a87d10f",
   "metadata": {},
   "source": [
    "## Ensemble"
   ]
  },
  {
   "cell_type": "code",
   "execution_count": null,
   "id": "fb70d362",
   "metadata": {},
   "outputs": [],
   "source": [
    "import torch\n",
    "import numpy as np\n",
    "\n",
    "def make_ensemble_predictions(models, images):\n",
    "    ensemble_predictions = []\n",
    "    for _, model in models:\n",
    "       \n",
    "    # Model accepts images as input and returns class probabilities\n",
    "        probabilities = model(images)\n",
    "        ensemble_predictions.append(probabilities.detach().numpy())  # Use detach() to avoid gradient computation\n",
    "    \n",
    "    # Ensemble by averaging the probabilities\n",
    "    average_probabilities = np.mean(ensemble_predictions, axis=0)\n",
    "    return average_probabilities\n",
    "\n",
    "# Define a dictionary to store the accuracy of each model\n",
    "model_accuracies = {\n",
    "    'AlexNet': accuracy_score(true_labels_alexnet, predictions_alexnet),\n",
    "    'DenseNet-121': accuracy_score(true_labels_densenet, predictions_densenet),\n",
    "    'ResNet-18': accuracy_score(true_labels_resnet18, predictions_resnet18),  # Corrected to ResNet-18\n",
    "    'VGG16': accuracy_score(true_labels_vgg16, predictions_vgg16),\n",
    "#     'InceptionV3': accuracy_score(true_labels_inception, predictions_inception)\n",
    "}\n",
    "\n",
    "# Sort models by accuracy (descending order) and select top 3\n",
    "top_models = sorted(model_accuracies.items(), key=lambda x: x[1], reverse=True)[:3]"
   ]
  },
  {
   "cell_type": "code",
   "execution_count": null,
   "id": "65561d94",
   "metadata": {},
   "outputs": [],
   "source": [
    "# Define a dictionary to map model names to their corresponding model objects\n",
    "model_objects = {\n",
    "    'AlexNet': alexnet_model,\n",
    "    'DenseNet-121': densenet_model,\n",
    "    'ResNet-18': resnet18_model,\n",
    "    'VGG16': vgg16_model\n",
    "}\n",
    "\n",
    "# Get the top 3 performing models' objects\n",
    "top_models_objects = [(model_name, model_objects[model_name]) for model_name, _ in top_models]\n",
    "\n",
    "# Now, you can pass top_models_objects to the make_ensemble_predictions function\n",
    "ensemble_predictions = make_ensemble_predictions(top_models_objects, image_tensor)"
   ]
  },
  {
   "cell_type": "code",
   "execution_count": null,
   "id": "572b93c0",
   "metadata": {},
   "outputs": [],
   "source": [
    "# Load the image\n",
    "image_path = 'D:/Jupyter/chexscan-folder/chexscan/test/pneumonia.jpeg'\n",
    "image = Image.open(image_path)\n",
    "\n",
    "# Define transformations to preprocess the image\n",
    "preprocess = transforms.Compose([\n",
    "    transforms.Resize(256),\n",
    "    transforms.CenterCrop(224),\n",
    "    transforms.ToTensor(),\n",
    "    transforms.Normalize(mean=[0.485, 0.456, 0.406], std=[0.229, 0.224, 0.225]),\n",
    "])\n",
    "\n",
    "# Preprocess the image\n",
    "image_tensor = preprocess(image)\n",
    "\n",
    "# Add a batch dimension to the image tensor\n",
    "image_tensor = image_tensor.unsqueeze(0)  # Add a batch dimension at index 0\n",
    "\n",
    "# Make predictions using the ensemble of top models\n",
    "ensemble_predictions = make_ensemble_predictions(top_models_objects, image_tensor)\n",
    "\n",
    "# Now you have ensemble predictions, you can perform further processing as needed\n",
    "# For example, you can get the predicted class label with the highest probability\n",
    "predicted_class_index = np.argmax(ensemble_predictions)"
   ]
  },
  {
   "cell_type": "code",
   "execution_count": null,
   "id": "7e79fabc",
   "metadata": {},
   "outputs": [],
   "source": [
    "# Get the predicted class label\n",
    "predicted_class_label = CLASSES[predicted_class_index]\n",
    "\n",
    "print(\"Predicted class label:\", predicted_class_label)"
   ]
  }
 ],
 "metadata": {
  "kernelspec": {
   "display_name": "Python 3 (ipykernel)",
   "language": "python",
   "name": "python3"
  },
  "language_info": {
   "codemirror_mode": {
    "name": "ipython",
    "version": 3
   },
   "file_extension": ".py",
   "mimetype": "text/x-python",
   "name": "python",
   "nbconvert_exporter": "python",
   "pygments_lexer": "ipython3",
   "version": "3.11.5"
  }
 },
 "nbformat": 4,
 "nbformat_minor": 5
}
