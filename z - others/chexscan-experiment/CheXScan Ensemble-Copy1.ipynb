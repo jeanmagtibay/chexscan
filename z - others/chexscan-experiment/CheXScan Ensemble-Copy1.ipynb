{
 "cells": [
  {
   "cell_type": "code",
   "execution_count": 1,
   "id": "57a043b4",
   "metadata": {},
   "outputs": [],
   "source": [
    "import torch\n",
    "import torch.nn.functional as F\n",
    "from torchvision import transforms\n",
    "from torchvision.datasets import ImageFolder\n",
    "from torch.utils.data import DataLoader\n",
    "import os"
   ]
  },
  {
   "cell_type": "code",
   "execution_count": 7,
   "id": "6d7e0e8a",
   "metadata": {},
   "outputs": [],
   "source": [
    "# Assuming you have a function to load and preprocess your data\n",
    "def load_data(data_dir, batch_size):\n",
    "    transform = transforms.Compose([\n",
    "        transforms.Resize((224, 224)),  # Resize image to fit model input\n",
    "        transforms.ToTensor(),           # Convert image to tensor\n",
    "        transforms.Normalize(mean=[0.485, 0.456, 0.406], std=[0.229, 0.224, 0.225])  # Normalize image\n",
    "    ])\n",
    "    dataset = ImageFolder(data_dir, transform=transform)\n",
    "    dataloader = DataLoader(dataset, batch_size=batch_size, shuffle=False)\n",
    "    return dataloader"
   ]
  },
  {
   "cell_type": "code",
   "execution_count": 8,
   "id": "fab8faa2",
   "metadata": {},
   "outputs": [],
   "source": [
    "model_paths = [\n",
    "    r\"D:/Jupyter/chexscan-folder/chexscan-experiment/vgg16.pth\",\n",
    "#     r\"D:/Jupyter/chexscan-folder/chexscan-experiment/densenet-121.pth\",\n",
    "    r\"D:/Jupyter/chexscan-folder/chexscan-experiment/resnet-18.pth\",\n",
    "#     r\"D:/Jupyter/chexscan-folder/chexscan-experiment/alexnet.pth\",\n",
    "#     r\"D:/Jupyter/chexscan-folder/chexscan-experiment/inceptionv3.pth\"\n",
    "]"
   ]
  },
  {
   "cell_type": "code",
   "execution_count": 9,
   "id": "f726af51",
   "metadata": {},
   "outputs": [],
   "source": [
    "model_names = [\n",
    "    \"vgg16\",\n",
    "    \"resnet18\"\n",
    "]"
   ]
  },
  {
   "cell_type": "code",
   "execution_count": 10,
   "id": "7357dac3",
   "metadata": {},
   "outputs": [],
   "source": [
    "device = torch.device(\"cuda\" if torch.cuda.is_available() else \"cpu\")"
   ]
  },
  {
   "cell_type": "code",
   "execution_count": 11,
   "id": "196d26ae",
   "metadata": {},
   "outputs": [
    {
     "ename": "AttributeError",
     "evalue": "'list' object has no attribute 'model_name'",
     "output_type": "error",
     "traceback": [
      "\u001b[1;31m---------------------------------------------------------------------------\u001b[0m",
      "\u001b[1;31mAttributeError\u001b[0m                            Traceback (most recent call last)",
      "Cell \u001b[1;32mIn[11], line 3\u001b[0m\n\u001b[0;32m      1\u001b[0m models \u001b[38;5;241m=\u001b[39m []\n\u001b[0;32m      2\u001b[0m \u001b[38;5;28;01mfor\u001b[39;00m model_name \u001b[38;5;129;01min\u001b[39;00m model_paths:\n\u001b[1;32m----> 3\u001b[0m     model \u001b[38;5;241m=\u001b[39m models\u001b[38;5;241m.\u001b[39mmodel_name(pretrained\u001b[38;5;241m=\u001b[39m\u001b[38;5;28;01mFalse\u001b[39;00m)\n\u001b[0;32m      4\u001b[0m     model\u001b[38;5;241m.\u001b[39mload_state_dict(torch\u001b[38;5;241m.\u001b[39mload(model_paths))\n\u001b[0;32m      5\u001b[0m \u001b[38;5;66;03m#     model = torch.load(model_path, map_location=device)\u001b[39;00m\n",
      "\u001b[1;31mAttributeError\u001b[0m: 'list' object has no attribute 'model_name'"
     ]
    }
   ],
   "source": [
    "models = []\n",
    "for model_names in model_paths:\n",
    "    model = models.model_names(pretrained=False)\n",
    "    model.load_state_dict(torch.load(model_paths))\n",
    "#     model = torch.load(model_path, map_location=device)\n",
    "    model.eval()\n",
    "    models.append(model)"
   ]
  },
  {
   "cell_type": "code",
   "execution_count": null,
   "id": "9c4d00ba",
   "metadata": {},
   "outputs": [],
   "source": [
    "# Load test data\n",
    "test_loader = load_data('path/to/test/data', batch_size=32)\n",
    "\n",
    "# Combine predictions using averaging\n",
    "def ensemble_predictions(models, dataloader):\n",
    "    predictions = []\n",
    "    for images, _ in dataloader:\n",
    "        batch_size = images.size(0)\n",
    "        avg_outputs = torch.zeros(batch_size, num_classes).to(device)\n",
    "        for model in models:\n",
    "            with torch.no_grad():\n",
    "                outputs = F.softmax(model(images.to(device)), dim=1)\n",
    "            avg_outputs += outputs\n",
    "        avg_outputs /= len(models)  # Average predictions\n",
    "        _, predicted = torch.max(avg_outputs, 1)\n",
    "        predictions.extend(predicted.cpu().tolist())\n",
    "    return predictions\n",
    "\n",
    "# Get ensemble predictions\n",
    "ensemble_preds = ensemble_predictions(models, test_loader)\n",
    "\n",
    "# Now you can use ensemble_preds for further analysis or evaluation\n"
   ]
  }
 ],
 "metadata": {
  "kernelspec": {
   "display_name": "Python 3 (ipykernel)",
   "language": "python",
   "name": "python3"
  },
  "language_info": {
   "codemirror_mode": {
    "name": "ipython",
    "version": 3
   },
   "file_extension": ".py",
   "mimetype": "text/x-python",
   "name": "python",
   "nbconvert_exporter": "python",
   "pygments_lexer": "ipython3",
   "version": "3.11.5"
  }
 },
 "nbformat": 4,
 "nbformat_minor": 5
}
